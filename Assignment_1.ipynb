{
  "nbformat": 4,
  "nbformat_minor": 0,
  "metadata": {
    "colab": {
      "name": "Assignment 1.ipynb",
      "provenance": [],
      "collapsed_sections": [],
      "include_colab_link": true
    },
    "kernelspec": {
      "name": "python3",
      "display_name": "Python 3"
    },
    "language_info": {
      "name": "python"
    }
  },
  "cells": [
    {
      "cell_type": "markdown",
      "metadata": {
        "id": "view-in-github",
        "colab_type": "text"
      },
      "source": [
        "<a href=\"https://colab.research.google.com/github/kingketan9/Data_Science_Ass/blob/main/Assignment_1.ipynb\" target=\"_parent\"><img src=\"https://colab.research.google.com/assets/colab-badge.svg\" alt=\"Open In Colab\"/></a>"
      ]
    },
    {
      "cell_type": "markdown",
      "source": [
        "**ASSIGNMENT 1**"
      ],
      "metadata": {
        "id": "wZ0qLn9kKGDK"
      }
    },
    {
      "cell_type": "markdown",
      "source": [
        "**Q1: L is a list defined as L= [11, 12, 13, 14].**\n",
        "\n",
        "i) WAP to add 50 and 60 to L. "
      ],
      "metadata": {
        "id": "n_tBT3xPKNt8"
      }
    },
    {
      "cell_type": "code",
      "execution_count": null,
      "metadata": {
        "colab": {
          "base_uri": "https://localhost:8080/"
        },
        "id": "0_J2Y62cJ7UL",
        "outputId": "6a9b3def-d187-46f9-cb37-b17d4c7f177d"
      },
      "outputs": [
        {
          "output_type": "stream",
          "name": "stdout",
          "text": [
            "Original List       -->  [11, 12, 13, 14]\n",
            "List After Adding   -->  [11, 12, 13, 14, 50, 60]\n"
          ]
        }
      ],
      "source": [
        "L = [11, 12, 13, 14] \n",
        "print (\"Original List       --> \", L)\n",
        "\n",
        "L.append(50)\n",
        "L.append(60)\n",
        "print (\"List After Adding   --> \", L)"
      ]
    },
    {
      "cell_type": "markdown",
      "source": [
        "ii) WAP to remove 11 and 13 from L."
      ],
      "metadata": {
        "id": "RTCHezc6LEaH"
      }
    },
    {
      "cell_type": "code",
      "source": [
        "print (\"Original List       --> \", L)\n",
        "del L[0]\n",
        "del L[1]\n",
        "print (\"List After Deleting --> \", L)"
      ],
      "metadata": {
        "colab": {
          "base_uri": "https://localhost:8080/"
        },
        "id": "6lZ0-a0jLiFp",
        "outputId": "c593ac64-0b14-4d1d-b9f5-ee9a904f4c27"
      },
      "execution_count": null,
      "outputs": [
        {
          "output_type": "stream",
          "name": "stdout",
          "text": [
            "Original List       -->  [11, 12, 13, 14, 50, 60]\n",
            "List After Deleting -->  [12, 14, 50, 60]\n"
          ]
        }
      ]
    },
    {
      "cell_type": "markdown",
      "source": [
        "iii) WAP to sort L in ascending order."
      ],
      "metadata": {
        "id": "F8M2yvzyMgfn"
      }
    },
    {
      "cell_type": "code",
      "source": [
        "L.sort()\n",
        "print('List after sorting in ascending order', L)"
      ],
      "metadata": {
        "colab": {
          "base_uri": "https://localhost:8080/"
        },
        "id": "ZfG25bdZMlk7",
        "outputId": "b4b8ecfb-495d-46cc-a4d9-3cdd31eb552c"
      },
      "execution_count": null,
      "outputs": [
        {
          "output_type": "stream",
          "name": "stdout",
          "text": [
            "List after sorting in ascending order [12, 14, 50, 60]\n"
          ]
        }
      ]
    },
    {
      "cell_type": "markdown",
      "source": [
        "iv) WAP to sort L in descending order."
      ],
      "metadata": {
        "id": "-oAg0OzqN0rk"
      }
    },
    {
      "cell_type": "code",
      "source": [
        "L.sort(reverse = True)\n",
        "print('List after sorting in descending order', L)"
      ],
      "metadata": {
        "colab": {
          "base_uri": "https://localhost:8080/"
        },
        "id": "GCz2cx98N3rw",
        "outputId": "f2b9aeba-aed8-4fe1-97e7-32d6e9003f2d"
      },
      "execution_count": null,
      "outputs": [
        {
          "output_type": "stream",
          "name": "stdout",
          "text": [
            "List after sorting in descending order [60, 50, 14, 12]\n"
          ]
        }
      ]
    },
    {
      "cell_type": "markdown",
      "source": [
        "v) WAP to search for 13 in L."
      ],
      "metadata": {
        "id": "Bg61y-AKOJZM"
      }
    },
    {
      "cell_type": "code",
      "source": [
        "print (\"Original List       --> \", L)\n",
        "\n",
        "print (\"Original List --> \", 13 in L)\n",
        "\n",
        "if (13 in L) == True:\n",
        "\tprint (\"Present\")\n",
        "else:\n",
        "\tprint (\"Not Present\")"
      ],
      "metadata": {
        "colab": {
          "base_uri": "https://localhost:8080/"
        },
        "id": "SC45Ym9dOKnf",
        "outputId": "425de169-af72-4f1a-83f4-868f50149b38"
      },
      "execution_count": null,
      "outputs": [
        {
          "output_type": "stream",
          "name": "stdout",
          "text": [
            "Original List       -->  [60, 50, 14, 12]\n",
            "Original List -->  False\n",
            "Not Present\n"
          ]
        }
      ]
    },
    {
      "cell_type": "markdown",
      "source": [
        "vi) WAP to count the number of elements present in L."
      ],
      "metadata": {
        "id": "hSy5S_pvOm21"
      }
    },
    {
      "cell_type": "code",
      "source": [
        "print (\"Original List       --> \", L)\n",
        "print (\"Number of elements in list: \", len(L))"
      ],
      "metadata": {
        "colab": {
          "base_uri": "https://localhost:8080/"
        },
        "id": "vtxvc-0JOn-Z",
        "outputId": "0d15fb4d-f16b-4324-9683-09cca27454d3"
      },
      "execution_count": null,
      "outputs": [
        {
          "output_type": "stream",
          "name": "stdout",
          "text": [
            "Original List       -->  [60, 50, 14, 12]\n",
            "Number of elements in list:  4\n"
          ]
        }
      ]
    },
    {
      "cell_type": "markdown",
      "source": [
        "vii) WAP to sum all the elements in L."
      ],
      "metadata": {
        "id": "R2eUJwiyQ2EG"
      }
    },
    {
      "cell_type": "code",
      "source": [
        "print (\"Original List --> \", L)\n",
        "\n",
        "print (\"Sum     --> \", sum(L))"
      ],
      "metadata": {
        "colab": {
          "base_uri": "https://localhost:8080/"
        },
        "id": "Cf_Gfy-QQ5wm",
        "outputId": "c43730a8-aacb-4f63-964c-21cf84a1a002"
      },
      "execution_count": null,
      "outputs": [
        {
          "output_type": "stream",
          "name": "stdout",
          "text": [
            "Original List -->  [60, 50, 14, 12]\n",
            "Sum     -->  136\n"
          ]
        }
      ]
    },
    {
      "cell_type": "markdown",
      "source": [
        "viii) WAP to sum all ODD numbers in L."
      ],
      "metadata": {
        "id": "jmJyem4eRCpD"
      }
    },
    {
      "cell_type": "code",
      "source": [
        "print (\"Original List --> \", L)\n",
        "odd_sum = 0\n",
        "for i in L:\n",
        "  if(i%2==1):\n",
        "    odd_sum = odd_sum + L[i]\n",
        "print('Sum -->', odd_sum)"
      ],
      "metadata": {
        "colab": {
          "base_uri": "https://localhost:8080/"
        },
        "id": "hzsCQ-ZQRF22",
        "outputId": "aee3f954-33a3-4796-a327-4ec7490dd89c"
      },
      "execution_count": null,
      "outputs": [
        {
          "output_type": "stream",
          "name": "stdout",
          "text": [
            "Original List -->  [60, 50, 14, 12]\n",
            "Sum --> 0\n"
          ]
        }
      ]
    },
    {
      "cell_type": "markdown",
      "source": [
        "ix)  WAP to sum all EVEN numbers in L."
      ],
      "metadata": {
        "id": "4QafELjASapK"
      }
    },
    {
      "cell_type": "code",
      "source": [
        "print (\"Original List --> \", L)\n",
        "even_sum = 0\n",
        "\n",
        "for i in range(0,len(L)):\n",
        "  if L[i] % 2 ==0:\n",
        "    even_sum += L[i]     \n",
        "print('Sum -->', even_sum)"
      ],
      "metadata": {
        "colab": {
          "base_uri": "https://localhost:8080/"
        },
        "id": "24KGw_5vSf6O",
        "outputId": "8a78254c-f6f3-45a5-8dc4-a74264f81c37"
      },
      "execution_count": null,
      "outputs": [
        {
          "output_type": "stream",
          "name": "stdout",
          "text": [
            "Original List -->  [60, 50, 14, 12]\n",
            "Sum --> 136\n"
          ]
        }
      ]
    },
    {
      "cell_type": "markdown",
      "source": [
        "x) WAP to sum all PRIME numbers in L."
      ],
      "metadata": {
        "id": "g4_ZgTMpSgdx"
      }
    },
    {
      "cell_type": "code",
      "source": [
        "print (\"Original List --> \", L)\n",
        "\n",
        "y = 0 \n",
        "def IsPrime(n):\n",
        "  for i in range(2, n//2 + 1):\n",
        "    if n%i==0:\n",
        "      return 0\n",
        "    return n \n",
        "  \n",
        "  for i in range(0,len(L)):\n",
        "    y+=IsPrime(L[i])\n",
        "\n",
        "print('Sum -->',y)"
      ],
      "metadata": {
        "colab": {
          "base_uri": "https://localhost:8080/"
        },
        "id": "3CCoI6AXSjlI",
        "outputId": "1576515a-0227-4a7a-e66d-96a484e96ecb"
      },
      "execution_count": null,
      "outputs": [
        {
          "output_type": "stream",
          "name": "stdout",
          "text": [
            "Original List -->  [60, 50, 14, 12]\n",
            "Sum --> 0\n"
          ]
        }
      ]
    },
    {
      "cell_type": "markdown",
      "source": [
        "xi) WAP to clear all the elements in L."
      ],
      "metadata": {
        "id": "UCUpcbWYSkRn"
      }
    },
    {
      "cell_type": "code",
      "source": [
        "print (\"Original List --> \", L)\n",
        "\n",
        "L.clear()\n",
        "\n",
        "print(\"List after clearing \", L)"
      ],
      "metadata": {
        "colab": {
          "base_uri": "https://localhost:8080/"
        },
        "id": "U9sqD-XmbsAB",
        "outputId": "9dfceb59-8170-4fd8-b19b-951a8db7863f"
      },
      "execution_count": null,
      "outputs": [
        {
          "output_type": "stream",
          "name": "stdout",
          "text": [
            "Original List -->  [60, 50, 14, 12]\n",
            "List after clearing  []\n"
          ]
        }
      ]
    },
    {
      "cell_type": "markdown",
      "source": [
        "xii) WAP to delete L.\n"
      ],
      "metadata": {
        "id": "E-HRfDQDcOxC"
      }
    },
    {
      "cell_type": "code",
      "source": [
        "print (\"Original List --> \", L)\n",
        "\n",
        "del L\n",
        "\n",
        "print(\"List Deleted Successfully!\")"
      ],
      "metadata": {
        "colab": {
          "base_uri": "https://localhost:8080/"
        },
        "id": "5zwSn-pLcTcb",
        "outputId": "7d0e0c54-645d-4167-8289-d09d6a2e3c42"
      },
      "execution_count": null,
      "outputs": [
        {
          "output_type": "stream",
          "name": "stdout",
          "text": [
            "Original List -->  []\n",
            "List Deleted Successfully!\n"
          ]
        }
      ]
    },
    {
      "cell_type": "markdown",
      "source": [
        "**Q2  D is a dictionary defined as D= {1:5.6, 2:7.8, 3:6.6, 4:8.7, 5:7.7}.**\n",
        "\n",
        "(i) WAP to add new entry in D; key=8 and value is 8.8"
      ],
      "metadata": {
        "id": "MpoQgMKMcnZn"
      }
    },
    {
      "cell_type": "code",
      "source": [
        "D= {1:5.6, 2:7.8, 3:6.6, 4:8.7, 5:7.7}\n",
        "print (\" Original Dictionary      --> \", D)\n",
        "\n",
        "D[8] = 8.8\n",
        "print (\"After Adding (8)    --> \", D)"
      ],
      "metadata": {
        "colab": {
          "base_uri": "https://localhost:8080/"
        },
        "id": "KOmJa9X6dGTC",
        "outputId": "724955a3-4760-4e33-c7a3-2a6ca20482ac"
      },
      "execution_count": null,
      "outputs": [
        {
          "output_type": "stream",
          "name": "stdout",
          "text": [
            " Original Dictionary      -->  {1: 5.6, 2: 7.8, 3: 6.6, 4: 8.7, 5: 7.7}\n",
            "After Adding (8)    -->  {1: 5.6, 2: 7.8, 3: 6.6, 4: 8.7, 5: 7.7, 8: 8.8}\n"
          ]
        }
      ]
    },
    {
      "cell_type": "markdown",
      "source": [
        "(ii) WAP to remove key=2."
      ],
      "metadata": {
        "id": "cN7AntaMdsQi"
      }
    },
    {
      "cell_type": "code",
      "source": [
        "D= {1:5.6, 2:7.8, 3:6.6, 4:8.7, 5:7.7}\n",
        "print (\" Original Dictionary      --> \", D)\n",
        "\n",
        "del D[2]\n",
        "print (\"After Deleting (2)  --> \", D)"
      ],
      "metadata": {
        "colab": {
          "base_uri": "https://localhost:8080/"
        },
        "id": "LxfmvDsidtOA",
        "outputId": "9ca39175-0900-4740-e117-9b7e0b78f051"
      },
      "execution_count": null,
      "outputs": [
        {
          "output_type": "stream",
          "name": "stdout",
          "text": [
            " Original Dictionary      -->  {1: 5.6, 2: 7.8, 3: 6.6, 4: 8.7, 5: 7.7}\n",
            "After Deleting (2)  -->  {1: 5.6, 3: 6.6, 4: 8.7, 5: 7.7}\n"
          ]
        }
      ]
    },
    {
      "cell_type": "markdown",
      "source": [
        "(iii) WAP to check whether 6 key is present in D."
      ],
      "metadata": {
        "id": "f_1_7pPYdwWu"
      }
    },
    {
      "cell_type": "code",
      "source": [
        "D= {1:5.6, 2:7.8, 3:6.6, 4:8.7, 5:7.7}\n",
        "print (\" Original Dictionary      --> \", D)\n",
        "\n",
        "print (\"Is Key 2 Present    --> \", 6 in D)"
      ],
      "metadata": {
        "colab": {
          "base_uri": "https://localhost:8080/"
        },
        "id": "eJaCcOsKdzZ1",
        "outputId": "b59c2019-384b-4365-aad1-8adf2c73b628"
      },
      "execution_count": null,
      "outputs": [
        {
          "output_type": "stream",
          "name": "stdout",
          "text": [
            " Original Dictionary      -->  {1: 5.6, 2: 7.8, 3: 6.6, 4: 8.7, 5: 7.7}\n",
            "Is Key 2 Present    -->  False\n"
          ]
        }
      ]
    },
    {
      "cell_type": "markdown",
      "source": [
        "(iv) WAP to count the number of elements present in D."
      ],
      "metadata": {
        "id": "Pb95EaZYd0DF"
      }
    },
    {
      "cell_type": "code",
      "source": [
        "D= {1:5.6, 2:7.8, 3:6.6, 4:8.7, 5:7.7}\n",
        "print (\" Original Dictionary      --> \", D)\n",
        "print (\"Num of elements --> \", len(D))"
      ],
      "metadata": {
        "colab": {
          "base_uri": "https://localhost:8080/"
        },
        "id": "25q1uXFCd2h2",
        "outputId": "985fb0d1-224d-4a4a-ccca-5850124effd8"
      },
      "execution_count": null,
      "outputs": [
        {
          "output_type": "stream",
          "name": "stdout",
          "text": [
            " Original Dictionary      -->  {1: 5.6, 2: 7.8, 3: 6.6, 4: 8.7, 5: 7.7}\n",
            "Num of elements -->  5\n"
          ]
        }
      ]
    },
    {
      "cell_type": "markdown",
      "source": [
        "(v) WAP to add all the values present D."
      ],
      "metadata": {
        "id": "dmkoAY4jd3ZG"
      }
    },
    {
      "cell_type": "code",
      "source": [
        "D= {1:5.6, 2:7.8, 3:6.6, 4:8.7, 5:7.7}\n",
        "print (\" Original Dictionary      --> \", D)\n",
        "print (\"Values     --> \", sum(list(D.values())))"
      ],
      "metadata": {
        "colab": {
          "base_uri": "https://localhost:8080/"
        },
        "id": "Rb3JELoCd5Zy",
        "outputId": "ac4f727c-2739-4422-fe0a-be335c0054cf"
      },
      "execution_count": null,
      "outputs": [
        {
          "output_type": "stream",
          "name": "stdout",
          "text": [
            " Original Dictionary      -->  {1: 5.6, 2: 7.8, 3: 6.6, 4: 8.7, 5: 7.7}\n",
            "Values     -->  36.4\n"
          ]
        }
      ]
    },
    {
      "cell_type": "markdown",
      "source": [
        "(vi) WAP to update the value of 3 to 7.1."
      ],
      "metadata": {
        "id": "5QsEQASKeDo2"
      }
    },
    {
      "cell_type": "code",
      "source": [
        "D= {1:5.6, 2:7.8, 3:6.6, 4:8.7, 5:7.7}\n",
        "print (\" Original Dictionary      --> \", D)\n",
        "\n",
        "D[3] = 7.1\n",
        "print (\"After Updating (3)  --> \", D)"
      ],
      "metadata": {
        "colab": {
          "base_uri": "https://localhost:8080/"
        },
        "id": "NcVyppa0eGew",
        "outputId": "ccf449ff-29c8-47d3-e208-a4af17d216de"
      },
      "execution_count": null,
      "outputs": [
        {
          "output_type": "stream",
          "name": "stdout",
          "text": [
            " Original Dictionary      -->  {1: 5.6, 2: 7.8, 3: 6.6, 4: 8.7, 5: 7.7}\n",
            "After Updating (3)  -->  {1: 5.6, 2: 7.8, 3: 7.1, 4: 8.7, 5: 7.7}\n"
          ]
        }
      ]
    },
    {
      "cell_type": "markdown",
      "source": [
        "(vii) WAP to clear the dictionary."
      ],
      "metadata": {
        "id": "OdrCBc3eeHEw"
      }
    },
    {
      "cell_type": "code",
      "source": [
        "D= {1:5.6, 2:7.8, 3:6.6, 4:8.7, 5:7.7}\n",
        "print (\" Original Dictionary      --> \", D)\n",
        "\n",
        "D.clear()\n",
        "\n",
        "print('Dictionary cleared Successfully!')"
      ],
      "metadata": {
        "colab": {
          "base_uri": "https://localhost:8080/"
        },
        "id": "Zx7EwjnaeJAK",
        "outputId": "be75659f-0b5c-4103-d870-128c217f89a0"
      },
      "execution_count": null,
      "outputs": [
        {
          "output_type": "stream",
          "name": "stdout",
          "text": [
            " Original Dictionary      -->  {1: 5.6, 2: 7.8, 3: 6.6, 4: 8.7, 5: 7.7}\n",
            "Dictionary cleared Successfully!\n"
          ]
        }
      ]
    },
    {
      "cell_type": "markdown",
      "source": [
        "**Q3. S1 is a set defined as S1= [10, 20, 30, 40, 50, 60].**\n",
        "\n",
        " S2 is a set defined as S2= [40, 50, 60, 70, 80, 90]. \n",
        "\n",
        "(i) WAP to add 55 and 66 in Set S1."
      ],
      "metadata": {
        "id": "zm771xUygGke"
      }
    },
    {
      "cell_type": "code",
      "source": [
        "S1= set([10, 20, 30, 40, 50, 60])\n",
        "S2= set([40, 50, 60, 70, 80, 90])\n",
        "print (\"Original set S1       --> \", S1)\n",
        "print (\"Original set S2       --> \", S2)\n",
        "\n",
        "S1.add(55)\n",
        "S1.add(66)\n",
        "print (\"Set After Adding 55 and 66 to set S1 --> \", S1)"
      ],
      "metadata": {
        "colab": {
          "base_uri": "https://localhost:8080/"
        },
        "id": "YoNwMtK_gRDe",
        "outputId": "506a7565-6d73-44ce-e414-cc17f47cab7c"
      },
      "execution_count": null,
      "outputs": [
        {
          "output_type": "stream",
          "name": "stdout",
          "text": [
            "Original set S1       -->  {40, 10, 50, 20, 60, 30}\n",
            "Original set S2       -->  {70, 40, 80, 50, 90, 60}\n",
            "Set After Adding 55 and 66 -->  {66, 40, 10, 50, 20, 55, 60, 30}\n"
          ]
        }
      ]
    },
    {
      "cell_type": "markdown",
      "source": [
        "(ii) WAP to remove 10 and 30 from Set S1."
      ],
      "metadata": {
        "id": "mBXvaU6AgSHR"
      }
    },
    {
      "cell_type": "code",
      "source": [
        "S1= set([10, 20, 30, 40, 50, 60])\n",
        "S2= set([40, 50, 60, 70, 80, 90])\n",
        "print (\"Original set S1       --> \", S1)\n",
        "print (\"Original set S2       --> \", S2)\n",
        "\n",
        "S1.remove(10)\n",
        "S1.remove(30)\n",
        "print (\"Set After Removing 10 and 30 from set S1 --> \", S1)"
      ],
      "metadata": {
        "colab": {
          "base_uri": "https://localhost:8080/"
        },
        "id": "yFBU8wnlgUR1",
        "outputId": "aa057776-5921-4af0-ff4c-13a4c75f49bb"
      },
      "execution_count": null,
      "outputs": [
        {
          "output_type": "stream",
          "name": "stdout",
          "text": [
            "Original set S1       -->  {40, 10, 50, 20, 60, 30}\n",
            "Original set S2       -->  {70, 40, 80, 50, 90, 60}\n",
            "Set After Removing 10 and 30 from set S1 -->  {40, 50, 20, 60}\n"
          ]
        }
      ]
    },
    {
      "cell_type": "markdown",
      "source": [
        "(iii) WAP to check whether 40 is present in S1."
      ],
      "metadata": {
        "id": "aE7gqW2mgUxT"
      }
    },
    {
      "cell_type": "code",
      "source": [
        "S1= set([10, 20, 30, 40, 50, 60])\n",
        "S2= set([40, 50, 60, 70, 80, 90])\n",
        "print (\"Original set S1       --> \", S1)\n",
        "print (\"Original set S2       --> \", S2)\n",
        "print (\"Is 40 Present in Set S1   --> \", 40 in S1)"
      ],
      "metadata": {
        "colab": {
          "base_uri": "https://localhost:8080/"
        },
        "id": "8zczHRkRgW6Q",
        "outputId": "46a482e2-2b64-4f3b-f154-29d25e35d357"
      },
      "execution_count": null,
      "outputs": [
        {
          "output_type": "stream",
          "name": "stdout",
          "text": [
            "Original set S1       -->  {40, 10, 50, 20, 60, 30}\n",
            "Original set S2       -->  {70, 40, 80, 50, 90, 60}\n",
            "Is 40 Present in Set S1   -->  True\n"
          ]
        }
      ]
    },
    {
      "cell_type": "markdown",
      "source": [
        "(iv) WAP to find the union between S1 and S2."
      ],
      "metadata": {
        "id": "hxm59qJzgXXQ"
      }
    },
    {
      "cell_type": "code",
      "source": [
        "S1= set([10, 20, 30, 40, 50, 60])\n",
        "S2= set([40, 50, 60, 70, 80, 90])\n",
        "print (\"Original set S1       --> \", S1)\n",
        "print (\"Original set S2       --> \", S2)\n",
        "print (\"Union of S1 and S2    --> \", S1.union(S2))"
      ],
      "metadata": {
        "colab": {
          "base_uri": "https://localhost:8080/"
        },
        "id": "7jqpSwvLgZVH",
        "outputId": "5033d8ea-1804-4674-9cfc-ec1c749ac8a5"
      },
      "execution_count": null,
      "outputs": [
        {
          "output_type": "stream",
          "name": "stdout",
          "text": [
            "Original set S1       -->  {40, 10, 50, 20, 60, 30}\n",
            "Original set S2       -->  {70, 40, 80, 50, 90, 60}\n",
            "Union of S1 and S2    -->  {70, 40, 10, 80, 50, 20, 90, 60, 30}\n"
          ]
        }
      ]
    },
    {
      "cell_type": "markdown",
      "source": [
        "(v) WAP to find the intersection between S1 and S2."
      ],
      "metadata": {
        "id": "ro0XqP1OgZ_S"
      }
    },
    {
      "cell_type": "code",
      "source": [
        "S1= set([10, 20, 30, 40, 50, 60])\n",
        "S2= set([40, 50, 60, 70, 80, 90])\n",
        "print (\"Original set S1       --> \", S1)\n",
        "print (\"Original set S2       --> \", S2)\n",
        "print (\"Intersection of S1 and S2    --> \", S1.intersection(S2))"
      ],
      "metadata": {
        "colab": {
          "base_uri": "https://localhost:8080/"
        },
        "id": "LUBl-pgZgb7j",
        "outputId": "533d814f-2f17-4af3-9b77-220f535ae32b"
      },
      "execution_count": null,
      "outputs": [
        {
          "output_type": "stream",
          "name": "stdout",
          "text": [
            "Original set S1       -->  {40, 10, 50, 20, 60, 30}\n",
            "Original set S2       -->  {70, 40, 80, 50, 90, 60}\n",
            "Intersection of S1 and S2    -->  {40, 50, 60}\n"
          ]
        }
      ]
    },
    {
      "cell_type": "markdown",
      "source": [
        "(vi) WAP to find the S1 - S2."
      ],
      "metadata": {
        "id": "QSrkGxD_gcok"
      }
    },
    {
      "cell_type": "code",
      "source": [
        "S1= set([10, 20, 30, 40, 50, 60])\n",
        "S2= set([40, 50, 60, 70, 80, 90])\n",
        "print (\"Original set S1       --> \", S1)\n",
        "print (\"Original set S2       --> \", S2)\n",
        "print (\"Difference of S1 and S2    --> \", S1.difference(S2))"
      ],
      "metadata": {
        "colab": {
          "base_uri": "https://localhost:8080/"
        },
        "id": "x2ocSztCgeUq",
        "outputId": "4ea4c4f8-87d9-4637-a7a2-e807be11e070"
      },
      "execution_count": null,
      "outputs": [
        {
          "output_type": "stream",
          "name": "stdout",
          "text": [
            "Original set S1       -->  {40, 10, 50, 20, 60, 30}\n",
            "Original set S2       -->  {70, 40, 80, 50, 90, 60}\n",
            "Difference of S1 and S2    -->  {10, 20, 30}\n"
          ]
        }
      ]
    },
    {
      "cell_type": "markdown",
      "source": [
        "**Q4. Write the following program.**\n",
        "\n",
        "(i) WAP to print 100 random strings whose length between 6 and 8."
      ],
      "metadata": {
        "id": "SZt844xDlNBG"
      }
    },
    {
      "cell_type": "code",
      "source": [
        "import string as s\n",
        "import random as r\n",
        "l = s.ascii_letters\n",
        "l\n",
        "up = 8\n",
        "down = 6\n",
        "iterations = 100\n",
        "for i in range(iterations):\n",
        "    SetSize = r.randint(down,up)\n",
        "    x = r.sample(l,SetSize)\n",
        "    print(x)\n"
      ],
      "metadata": {
        "colab": {
          "base_uri": "https://localhost:8080/"
        },
        "id": "n3xvcRxQlPo9",
        "outputId": "1af376ee-3043-4f0d-cff2-8f598c8a00d8"
      },
      "execution_count": null,
      "outputs": [
        {
          "output_type": "stream",
          "name": "stdout",
          "text": [
            "['T', 'x', 'R', 'y', 'C', 'Q']\n",
            "['Z', 's', 'J', 'c', 'A', 'h', 'H']\n",
            "['G', 'o', 't', 'D', 'R', 'C', 'X', 'd']\n",
            "['B', 'g', 'V', 'I', 'd', 'n']\n",
            "['O', 'G', 'h', 'E', 'k', 'j', 'L']\n",
            "['J', 'c', 's', 'S', 'w', 'a']\n",
            "['d', 'k', 'r', 't', 'w', 'u', 'f']\n",
            "['d', 'P', 'q', 'O', 'M', 'v']\n",
            "['s', 'X', 'n', 'V', 'o', 'Z', 'g']\n",
            "['Q', 'b', 'j', 'f', 'g', 'H']\n",
            "['K', 'I', 'E', 'G', 'i', 'L']\n",
            "['s', 'z', 'Q', 'X', 'm', 'j', 'A', 'I']\n",
            "['B', 'R', 'H', 'N', 'Q', 'J', 'L']\n",
            "['M', 'm', 'J', 'z', 'c', 'x', 'U', 'H']\n",
            "['v', 't', 'Y', 'x', 'l', 'G']\n",
            "['B', 'e', 'M', 'W', 'b', 'k', 'c']\n",
            "['U', 'D', 'b', 'q', 'B', 'E', 'm', 'O']\n",
            "['Y', 'W', 'D', 'J', 'F', 'z', 'w']\n",
            "['V', 'm', 'z', 'P', 'X', 'E', 'r']\n",
            "['h', 'P', 'L', 'y', 'I', 'A']\n",
            "['e', 'I', 'm', 'X', 'C', 'F', 'g', 'v']\n",
            "['E', 'j', 'y', 'Q', 'D', 'x', 'c']\n",
            "['y', 'l', 'v', 'i', 'P', 'u', 'A']\n",
            "['b', 'Y', 'w', 'c', 'm', 'a', 'v', 'h']\n",
            "['k', 'V', 'P', 'G', 'B', 'a', 'w', 'L']\n",
            "['t', 'B', 'd', 'S', 'o', 's', 'U']\n",
            "['y', 'C', 'I', 'H', 'c', 'k', 'P']\n",
            "['I', 'o', 'v', 'j', 't', 'e', 'r', 'M']\n",
            "['j', 'v', 'Y', 'H', 'd', 't', 'a']\n",
            "['T', 'N', 'V', 'L', 'o', 'K', 'y']\n",
            "['z', 'Q', 'K', 'e', 'd', 'O']\n",
            "['A', 'H', 'J', 'L', 'X', 'P']\n",
            "['H', 'c', 'q', 'd', 's', 'f', 'U', 'V']\n",
            "['R', 's', 'l', 'p', 'G', 'r', 'C', 'V']\n",
            "['q', 'L', 'O', 'x', 'w', 'M', 'g']\n",
            "['O', 'k', 'd', 'z', 'u', 'N', 'i']\n",
            "['P', 'r', 'F', 'x', 'C', 'S', 's', 'z']\n",
            "['i', 'p', 'o', 'x', 's', 'V', 'k']\n",
            "['n', 'p', 'h', 'z', 'W', 'Q']\n",
            "['T', 'C', 'M', 'i', 'U', 's', 'L']\n",
            "['L', 'H', 'p', 'R', 'C', 'u', 'S']\n",
            "['h', 'g', 'x', 'K', 'C', 'B', 'G']\n",
            "['M', 'p', 'K', 'c', 'Q', 'N', 'U', 'i']\n",
            "['T', 'a', 'z', 'p', 'H', 'i', 'J']\n",
            "['n', 'M', 'F', 'C', 'j', 'L']\n",
            "['r', 'p', 't', 'R', 'L', 'Z', 'V', 'i']\n",
            "['V', 'i', 'N', 'h', 'G', 'd']\n",
            "['z', 'j', 'c', 'o', 'v', 'N', 'x', 'S']\n",
            "['D', 'K', 'Y', 'a', 's', 'J']\n",
            "['e', 'K', 'N', 'n', 'p', 'k', 'Q']\n",
            "['j', 'L', 'g', 'W', 'f', 'V', 'O']\n",
            "['j', 'F', 'x', 'm', 'Q', 'v', 'l']\n",
            "['n', 'D', 'Z', 'U', 'k', 'V', 'M']\n",
            "['L', 'e', 'Q', 'N', 'm', 'b', 'z', 'r']\n",
            "['e', 'R', 'm', 'n', 'N', 'F', 'D', 'H']\n",
            "['Y', 'b', 'A', 'J', 'U', 'I', 'o']\n",
            "['y', 'm', 'a', 'J', 'Q', 'P', 'A', 'c']\n",
            "['G', 'g', 'Z', 'v', 'D', 'I', 'y', 'u']\n",
            "['c', 'q', 'G', 'W', 'b', 'R']\n",
            "['S', 'D', 's', 'N', 'f', 'V', 'I']\n",
            "['B', 'd', 's', 'u', 'I', 'C', 'N']\n",
            "['z', 'B', 'x', 'Q', 'E', 'V', 'u', 'M']\n",
            "['Z', 'Q', 'j', 'O', 'E', 'u', 'R']\n",
            "['H', 'a', 'Q', 'm', 'X', 'M']\n",
            "['O', 'e', 'f', 'Y', 'I', 'J', 'g']\n",
            "['h', 'X', 'j', 'T', 'B', 'J']\n",
            "['D', 'V', 'p', 'b', 'f', 'h', 'v']\n",
            "['c', 'q', 'Q', 'p', 'm', 'N']\n",
            "['f', 'J', 'A', 'Y', 'D', 'r', 'P']\n",
            "['Y', 'l', 'z', 'j', 'C', 'V', 'g', 't']\n",
            "['T', 'C', 'e', 'm', 'r', 'X', 'O', 'W']\n",
            "['o', 'y', 'f', 'G', 'w', 'g', 'Q', 'W']\n",
            "['T', 'n', 'b', 'W', 'O', 'Z', 'X', 'g']\n",
            "['o', 'T', 'f', 'B', 'D', 'y', 'm', 'i']\n",
            "['O', 'u', 'V', 'p', 'f', 'D']\n",
            "['z', 'h', 'j', 'G', 'U', 'd', 'F']\n",
            "['p', 'K', 'e', 'X', 'i', 'd']\n",
            "['L', 'd', 'Y', 'j', 'h', 'c']\n",
            "['D', 'L', 'K', 'M', 'y', 'Y']\n",
            "['L', 'A', 'C', 'k', 'd', 'U', 'a', 'K']\n",
            "['h', 'p', 'C', 't', 'e', 'X']\n",
            "['k', 'h', 'w', 'm', 'X', 'U', 'L']\n",
            "['F', 'X', 'e', 'U', 'h', 'D', 'K']\n",
            "['j', 'b', 'Z', 'N', 'J', 'x', 'g']\n",
            "['y', 'o', 's', 'w', 'a', 'P', 'F', 'd']\n",
            "['g', 'x', 'z', 'm', 'n', 'k']\n",
            "['O', 'J', 'W', 'o', 'r', 'D', 'M', 'w']\n",
            "['N', 'p', 'F', 'c', 'g', 'u', 's']\n",
            "['u', 'j', 'T', 'b', 'C', 't']\n",
            "['e', 'y', 'L', 'F', 'a', 'M', 'l', 'n']\n",
            "['r', 'D', 'I', 'i', 'R', 'J', 'U']\n",
            "['t', 'n', 'L', 'G', 'W', 'a', 'V']\n",
            "['W', 'C', 'N', 'q', 'u', 'm']\n",
            "['i', 'Y', 'Z', 'J', 'n', 'O']\n",
            "['T', 'z', 's', 'e', 'v', 'R', 'g', 'B']\n",
            "['m', 'y', 'r', 'T', 'J', 'k', 'C', 'X']\n",
            "['b', 'p', 'a', 'd', 'B', 'f']\n",
            "['d', 'D', 'v', 'C', 'N', 'B', 'M', 'p']\n",
            "['x', 'm', 'b', 'p', 'Q', 'K']\n",
            "['h', 'K', 'r', 'W', 'I', 'i', 'o']\n"
          ]
        }
      ]
    },
    {
      "cell_type": "markdown",
      "source": [
        "(ii) WAP to print all prime numbers between 600 and 800."
      ],
      "metadata": {
        "id": "EZ-0oI_ulQ8V"
      }
    },
    {
      "cell_type": "code",
      "source": [
        "lower = 600\n",
        "upper = 800\n",
        "\n",
        "print(\"Prime numbers between\", lower, \"and\", upper, \"are:\")\n",
        "\n",
        "for num in range(lower, upper + 1):\n",
        "   if num > 1:\n",
        "       for i in range(2, num):\n",
        "           if (num % i) == 0:\n",
        "               break\n",
        "       else:\n",
        "           print(num)"
      ],
      "metadata": {
        "colab": {
          "base_uri": "https://localhost:8080/"
        },
        "id": "g7GF7aojlTXV",
        "outputId": "0c537ae4-4aa0-451e-c27b-82d1c6880f61"
      },
      "execution_count": null,
      "outputs": [
        {
          "output_type": "stream",
          "name": "stdout",
          "text": [
            "Prime numbers between 600 and 800 are:\n",
            "601\n",
            "607\n",
            "613\n",
            "617\n",
            "619\n",
            "631\n",
            "641\n",
            "643\n",
            "647\n",
            "653\n",
            "659\n",
            "661\n",
            "673\n",
            "677\n",
            "683\n",
            "691\n",
            "701\n",
            "709\n",
            "719\n",
            "727\n",
            "733\n",
            "739\n",
            "743\n",
            "751\n",
            "757\n",
            "761\n",
            "769\n",
            "773\n",
            "787\n",
            "797\n"
          ]
        }
      ]
    },
    {
      "cell_type": "markdown",
      "source": [
        "(iii) WAP to print all numbers between 100 and 1000 that are divisible by 7 and 9.\n"
      ],
      "metadata": {
        "id": "5uMAx0OUlTpw"
      }
    },
    {
      "cell_type": "code",
      "source": [
        "nl=[]\n",
        "for x in range(100, 1000):\n",
        "    if (x%7==0) and (x%9==0):\n",
        "        nl.append(str(x))\n",
        "print (','.join(nl))"
      ],
      "metadata": {
        "colab": {
          "base_uri": "https://localhost:8080/"
        },
        "id": "Ip-IjprDlYQQ",
        "outputId": "9c511430-2ae2-4bfb-ac58-45ec843e1cf3"
      },
      "execution_count": null,
      "outputs": [
        {
          "output_type": "stream",
          "name": "stdout",
          "text": [
            "126,189,252,315,378,441,504,567,630,693,756,819,882,945\n"
          ]
        }
      ]
    },
    {
      "cell_type": "markdown",
      "source": [
        "Q5. WAP to create two lists of 10 random numbers between 10 and 30; \n",
        "\n",
        "Find \n",
        "\n",
        "(i) Common numbers in the two lists"
      ],
      "metadata": {
        "id": "CLChZDjSqab2"
      }
    },
    {
      "cell_type": "code",
      "source": [
        "import random as r\n",
        "randomlist1 = r.sample(range(10, 30),10)\n",
        "randomlist2 = r.sample(range(10, 30),10)\n",
        "print(randomlist1)\n",
        "print(randomlist2)\n",
        "\n",
        "randomlist1 = set(randomlist1)\n",
        "randomlist2 = set(randomlist2)\n",
        "common = randomlist1.intersection(randomlist2)\n",
        "\n",
        "print('Common among two lists are --> ',common)"
      ],
      "metadata": {
        "colab": {
          "base_uri": "https://localhost:8080/"
        },
        "id": "lstksURjqjmg",
        "outputId": "fba171d8-5568-44c9-cb09-60e88e75c07f"
      },
      "execution_count": null,
      "outputs": [
        {
          "output_type": "stream",
          "name": "stdout",
          "text": [
            "[26, 18, 21, 25, 11, 27, 29, 17, 14, 19]\n",
            "[19, 10, 17, 21, 16, 15, 27, 14, 24, 28]\n",
            "Common among two lists are -->  {14, 17, 19, 21, 27}\n"
          ]
        }
      ]
    },
    {
      "cell_type": "markdown",
      "source": [
        "(ii) Unique numbers in both the list\n"
      ],
      "metadata": {
        "id": "viV_sJrnqoCK"
      }
    },
    {
      "cell_type": "code",
      "source": [
        "import random as r\n",
        "randomlist1 = r.sample(range(10, 30),10)\n",
        "randomlist2 = r.sample(range(10, 30),10)\n",
        "print(randomlist1)\n",
        "print(randomlist2)\n",
        "\n",
        "unique_list1 = set(randomlist1)\n",
        "unique_list2 = set(randomlist2)\n",
        "\n",
        "print(\"Unique elements in list1 are -->\", unique_list1)\n",
        "print(\"Unique elements in list2 are -->\", unique_list2)"
      ],
      "metadata": {
        "colab": {
          "base_uri": "https://localhost:8080/"
        },
        "id": "x9CICaUmqr12",
        "outputId": "a7141e6b-5292-415b-bd18-dd13a09717e3"
      },
      "execution_count": null,
      "outputs": [
        {
          "output_type": "stream",
          "name": "stdout",
          "text": [
            "[27, 24, 19, 26, 13, 11, 10, 17, 25, 20]\n",
            "[11, 10, 26, 21, 17, 12, 25, 27, 29, 15]\n",
            "Unique elements in list1 are --> {10, 11, 13, 17, 19, 20, 24, 25, 26, 27}\n",
            "Unique elements in list2 are --> {10, 11, 12, 15, 17, 21, 25, 26, 27, 29}\n"
          ]
        }
      ]
    },
    {
      "cell_type": "markdown",
      "source": [
        "(iii) Minimum in both the list"
      ],
      "metadata": {
        "id": "0iNuY_R9qsky"
      }
    },
    {
      "cell_type": "code",
      "source": [
        "import random as r\n",
        "randomlist1 = r.sample(range(10, 30),10)\n",
        "randomlist2 = r.sample(range(10, 30),10)\n",
        "print(randomlist1)\n",
        "print(randomlist2)\n",
        "\n",
        "print(\"Minimum number in list1 is -->\", min(randomlist1))\n",
        "print(\"Minimum number in list2 is -->\", min(randomlist2))"
      ],
      "metadata": {
        "colab": {
          "base_uri": "https://localhost:8080/"
        },
        "id": "5yCFsKWjqvI9",
        "outputId": "38aa6639-561b-44d6-adee-349e43ccc752"
      },
      "execution_count": null,
      "outputs": [
        {
          "output_type": "stream",
          "name": "stdout",
          "text": [
            "[28, 25, 16, 27, 10, 26, 17, 24, 23, 12]\n",
            "[15, 26, 22, 13, 16, 29, 18, 20, 11, 24]\n",
            "Minimum number in list1 is --> 10\n",
            "Minimum number in list2 is --> 11\n"
          ]
        }
      ]
    },
    {
      "cell_type": "markdown",
      "source": [
        "(iv) Maximum in both the list"
      ],
      "metadata": {
        "id": "DNMWqEOxqvuW"
      }
    },
    {
      "cell_type": "code",
      "source": [
        "import random as r\n",
        "randomlist1 = r.sample(range(10, 30),10)\n",
        "randomlist2 = r.sample(range(10, 30),10)\n",
        "print(randomlist1)\n",
        "print(randomlist2)\n",
        "\n",
        "print(\"Maximum number in list1 is -->\", max(randomlist1))\n",
        "print(\"Maximum number in list2 is -->\", max(randomlist2))"
      ],
      "metadata": {
        "colab": {
          "base_uri": "https://localhost:8080/"
        },
        "id": "vP9rhnsbqx6W",
        "outputId": "5f564f18-a43f-401f-ed61-b3182cb53bc8"
      },
      "execution_count": null,
      "outputs": [
        {
          "output_type": "stream",
          "name": "stdout",
          "text": [
            "[12, 23, 28, 15, 21, 29, 18, 27, 16, 14]\n",
            "[28, 20, 23, 14, 18, 26, 10, 22, 12, 16]\n",
            "Maximum number in list1 is --> 29\n",
            "Maximum number in list2 is --> 28\n"
          ]
        }
      ]
    },
    {
      "cell_type": "markdown",
      "source": [
        "(v) Sum of both the lists"
      ],
      "metadata": {
        "id": "T9M1abq2qyjW"
      }
    },
    {
      "cell_type": "code",
      "source": [
        "import random as r\n",
        "randomlist1 = r.sample(range(10, 30),10)\n",
        "randomlist2 = r.sample(range(10, 30),10)\n",
        "print(randomlist1)\n",
        "print(randomlist2)\n",
        "\n",
        "print(\"Sum of  list1 + list2 is -->\", sum(randomlist1 + randomlist2))"
      ],
      "metadata": {
        "colab": {
          "base_uri": "https://localhost:8080/"
        },
        "id": "RneIzDWcq0ph",
        "outputId": "669ba9a4-c782-4ece-b765-db50b0cb0cf2"
      },
      "execution_count": null,
      "outputs": [
        {
          "output_type": "stream",
          "name": "stdout",
          "text": [
            "[17, 12, 11, 28, 10, 15, 18, 22, 26, 25]\n",
            "[13, 18, 17, 23, 26, 19, 21, 28, 27, 25]\n",
            "Sum of  list1 + list2 is --> 401\n"
          ]
        }
      ]
    },
    {
      "cell_type": "markdown",
      "source": [
        "Q6. WAP to create a list of 100 random numbers between 100 and 900. \n",
        "\n",
        "Count and print the:\n",
        "\n",
        "(i) All odd numbers"
      ],
      "metadata": {
        "id": "B1NGiB2Irat_"
      }
    },
    {
      "cell_type": "code",
      "source": [
        "import random as r\n",
        "randomlist = r.sample(range(100,900),100)\n",
        "print(randomlist)\n",
        "\n",
        "odd_count = 0\n",
        "even_count = 0 \n",
        "\n",
        "for num in randomlist:\n",
        "      \n",
        "    if num % 2 == 0:\n",
        "        even_count += 1\n",
        "  \n",
        "    else:\n",
        "        odd_count += 1\n",
        "\n",
        "print(\"Odd numbers in the list: \", odd_count)"
      ],
      "metadata": {
        "colab": {
          "base_uri": "https://localhost:8080/"
        },
        "id": "JXSnMOmWrdgw",
        "outputId": "dd99e449-503e-4575-cb6e-d750e92d64a6"
      },
      "execution_count": null,
      "outputs": [
        {
          "output_type": "stream",
          "name": "stdout",
          "text": [
            "[746, 607, 353, 435, 609, 397, 379, 848, 131, 464, 799, 701, 382, 483, 487, 792, 689, 642, 786, 648, 256, 296, 181, 659, 873, 882, 782, 426, 229, 636, 233, 251, 500, 691, 763, 408, 462, 501, 606, 769, 856, 472, 711, 344, 518, 822, 343, 171, 548, 276, 618, 316, 312, 672, 260, 771, 257, 122, 840, 217, 183, 253, 393, 291, 419, 432, 288, 682, 327, 201, 478, 634, 203, 883, 197, 429, 527, 740, 498, 480, 420, 566, 400, 596, 325, 847, 521, 881, 125, 547, 303, 305, 290, 491, 536, 219, 212, 456, 385, 756]\n",
            "Odd numbers in the list:  51\n"
          ]
        }
      ]
    },
    {
      "cell_type": "markdown",
      "source": [
        "(ii) All even numbers"
      ],
      "metadata": {
        "id": "jxTEHTKDrflK"
      }
    },
    {
      "cell_type": "code",
      "source": [
        "import random as r\n",
        "randomlist = r.sample(range(100,900),100)\n",
        "print(randomlist)\n",
        "\n",
        "odd_count = 0\n",
        "even_count = 0 \n",
        "\n",
        "for num in randomlist:\n",
        "      \n",
        "    if num % 2 == 0:\n",
        "        even_count += 1\n",
        "  \n",
        "    else:\n",
        "        odd_count += 1\n",
        "\n",
        "print(\"Even numbers in the list: \", even_count)"
      ],
      "metadata": {
        "colab": {
          "base_uri": "https://localhost:8080/"
        },
        "id": "RcIAD8dhrgqX",
        "outputId": "914fc65a-f26d-45e3-cceb-e9e85220f6d6"
      },
      "execution_count": null,
      "outputs": [
        {
          "output_type": "stream",
          "name": "stdout",
          "text": [
            "[300, 420, 474, 595, 353, 532, 584, 835, 262, 539, 417, 416, 557, 744, 724, 668, 890, 768, 192, 331, 745, 480, 142, 773, 362, 115, 335, 392, 322, 224, 576, 678, 185, 255, 839, 892, 656, 402, 231, 832, 490, 542, 365, 279, 301, 314, 424, 563, 328, 790, 624, 315, 819, 350, 345, 640, 651, 566, 307, 237, 261, 865, 477, 567, 451, 431, 831, 555, 686, 524, 881, 352, 349, 290, 202, 565, 360, 309, 520, 753, 205, 508, 138, 878, 899, 852, 674, 514, 715, 165, 521, 227, 777, 847, 679, 885, 184, 370, 824, 751]\n",
            "Even numbers in the list:  51\n"
          ]
        }
      ]
    },
    {
      "cell_type": "markdown",
      "source": [
        "(iii) All prime numbers"
      ],
      "metadata": {
        "id": "Qz0WQwSorhYq"
      }
    },
    {
      "cell_type": "code",
      "source": [
        "import random as r\n",
        "randomlist = r.sample(range(100,900),100)\n",
        "print(randomlist)\n",
        "\n",
        "prime_count =0 \n",
        "for number in range (0, len(randomlist)):  \n",
        "    if number > 1:  \n",
        "        for i in range (2, number):  \n",
        "            if (number % i) == 0:\n",
        "                break  \n",
        "        else:  \n",
        "            prime_count +=1\n",
        "        \n",
        "print('Prime numbers in the list: ',prime_count)"
      ],
      "metadata": {
        "colab": {
          "base_uri": "https://localhost:8080/"
        },
        "id": "5nX4drHNrjsr",
        "outputId": "eff6b657-6563-41db-893b-5834604a8aa9"
      },
      "execution_count": null,
      "outputs": [
        {
          "output_type": "stream",
          "name": "stdout",
          "text": [
            "[537, 221, 583, 592, 239, 317, 628, 897, 604, 319, 877, 296, 301, 618, 503, 886, 868, 893, 112, 116, 691, 342, 587, 888, 505, 210, 292, 641, 275, 406, 437, 252, 710, 257, 881, 138, 382, 195, 247, 802, 787, 617, 883, 431, 492, 533, 850, 294, 895, 754, 471, 669, 646, 671, 786, 749, 220, 694, 660, 659, 784, 762, 650, 298, 458, 158, 497, 621, 798, 845, 570, 651, 447, 809, 436, 374, 178, 329, 692, 636, 200, 442, 778, 439, 793, 291, 629, 545, 738, 491, 540, 637, 685, 499, 825, 515, 171, 742, 566, 235]\n",
            "Prime numbers in the list:  25\n"
          ]
        }
      ]
    },
    {
      "cell_type": "markdown",
      "source": [
        "Q7. D is a dictionary defined as D={1:\"One\",2:\"Two\",3:\"Three\",4:\"Four\", 5:\"Five\"}.\n",
        "\n",
        "WAP to read all the keys and values from dictionary and write to the file in the given below format.\n",
        "\n",
        "Key1, Value1\n",
        "\n",
        "Key2, Value2 \n",
        "\n",
        "Key3, Value3\n"
      ],
      "metadata": {
        "id": "MUAkVbSJrx7s"
      }
    },
    {
      "cell_type": "code",
      "source": [
        "fp =open('q7.txt','w')\n",
        "D={1:\"One\",2:\"Two\",3:\"Three\",4:\"Four\", 5:\"Five\"}\n",
        "for key, value in D.items():\n",
        "  print(key, ' : ', value)\n",
        "fp.close()\n",
        "print (\"Writing done !! \\nOpen q7.txt to view the content\")"
      ],
      "metadata": {
        "colab": {
          "base_uri": "https://localhost:8080/"
        },
        "id": "3T7sf4zYr0nf",
        "outputId": "ed241dd8-f75d-4740-e7ec-ba25ac742475"
      },
      "execution_count": null,
      "outputs": [
        {
          "output_type": "stream",
          "name": "stdout",
          "text": [
            "1  :  One\n",
            "2  :  Two\n",
            "3  :  Three\n",
            "4  :  Four\n",
            "5  :  Five\n",
            "Writing done !! \n",
            "Open q7.txt to view the content\n"
          ]
        }
      ]
    },
    {
      "cell_type": "markdown",
      "source": [
        "Q8. L is a list defined as L={\"One\",\"Two\",\"Three\",\"Four\",\"Five\"}.\n",
        "\n",
        "WAP to count the length of reach element from a list and write to the file in the given below format:\n",
        "\n",
        "One, 3 \n",
        "\n",
        "Two, 3 \n",
        "\n",
        "Four, 4"
      ],
      "metadata": {
        "id": "ZPvCZGIKr_bS"
      }
    },
    {
      "cell_type": "code",
      "source": [
        "fp =open('q8.txt','w')\n",
        "L = (\"One\",\"Two\",\"Three\",\"Four\",\"Five\")\n",
        "for i in range(0,len(L)):\n",
        "  print(L[i] , len(L[i]))\n",
        "  fp.close()\n",
        "print (\"Writing done !! \\nOpen q8.txt to view the content\")"
      ],
      "metadata": {
        "colab": {
          "base_uri": "https://localhost:8080/"
        },
        "id": "NsAoKBhYsAoR",
        "outputId": "7db02935-3eb4-4a66-97a0-55af3af4c2fb"
      },
      "execution_count": null,
      "outputs": [
        {
          "output_type": "stream",
          "name": "stdout",
          "text": [
            "One 3\n",
            "Two 3\n",
            "Three 5\n",
            "Four 4\n",
            "Five 4\n",
            "Writing done !! \n",
            "Open q8.txt to view the content\n"
          ]
        }
      ]
    },
    {
      "cell_type": "markdown",
      "source": [
        "Q9. Write to the file 100 random strings whose length between 10 and 15.\n"
      ],
      "metadata": {
        "id": "IKc_cGpgsExU"
      }
    },
    {
      "cell_type": "code",
      "source": [
        "fp = open('q9.txt','w')\n",
        "import string as s\n",
        "import random as r\n",
        "l = s.ascii_letters\n",
        "l\n",
        "up = 10\n",
        "down = 15\n",
        "iterations = 100\n",
        "for i in range(iterations):\n",
        "    SetSize = r.randint(down,up)\n",
        "    x = r.sample(l,SetSize)\n",
        "    print(x)\n",
        "fp.close()\n",
        "print('Writing done !! \\nOpen q9.txt to view the content')"
      ],
      "metadata": {
        "id": "sf1yThPrsHSF"
      },
      "execution_count": null,
      "outputs": []
    },
    {
      "cell_type": "markdown",
      "source": [
        "Q10. Write to the file all prime numbers between 600 and 800.\n"
      ],
      "metadata": {
        "id": "1nEdJe0NsIGB"
      }
    },
    {
      "cell_type": "code",
      "source": [
        "fp = open('q10.txt','w')\n",
        "lower = 600\n",
        "upper = 800\n",
        "\n",
        "print(\"Prime numbers between\", lower, \"and\", upper, \"are:\")\n",
        "\n",
        "for num in range(lower, upper + 1):\n",
        "   if num > 1:\n",
        "       for i in range(2, num):\n",
        "           if (num % i) == 0:\n",
        "               break\n",
        "       else:\n",
        "           print(num)\n",
        "fp.close()\n",
        "print (\"Writing done !! \\nOpen q10.txt to view the content\")"
      ],
      "metadata": {
        "colab": {
          "base_uri": "https://localhost:8080/"
        },
        "id": "Dbq47qf2sKiF",
        "outputId": "96ae6572-6fe3-4f25-ca97-b403ad6d4cd8"
      },
      "execution_count": null,
      "outputs": [
        {
          "output_type": "stream",
          "name": "stdout",
          "text": [
            "Prime numbers between 600 and 800 are:\n",
            "601\n",
            "607\n",
            "613\n",
            "617\n",
            "619\n",
            "631\n",
            "641\n",
            "643\n",
            "647\n",
            "653\n",
            "659\n",
            "661\n",
            "673\n",
            "677\n",
            "683\n",
            "691\n",
            "701\n",
            "709\n",
            "719\n",
            "727\n",
            "733\n",
            "739\n",
            "743\n",
            "751\n",
            "757\n",
            "761\n",
            "769\n",
            "773\n",
            "787\n",
            "797\n",
            "Writing done !! \n",
            "Open q10.txt to view the content\n"
          ]
        }
      ]
    },
    {
      "cell_type": "markdown",
      "source": [
        "Q11. WAP to calculate the time taken by a program.\n"
      ],
      "metadata": {
        "id": "GB0rbyTPsMu2"
      }
    },
    {
      "cell_type": "code",
      "source": [
        "import time as t\n",
        "\n",
        "# store starting time\n",
        "begin = t.time()\n",
        "\n",
        "# program body starts\n",
        "\n",
        "for i in range(5):\n",
        "\tprint(\"Hello\")\n",
        "# program body ends\n",
        "\n",
        "t.sleep(1)\n",
        "# store end time\n",
        "end = t.time()\n",
        "\n",
        "# total time taken\n",
        "print(f\"Total runtime of the program is {end - begin}\")\n",
        "\n"
      ],
      "metadata": {
        "colab": {
          "base_uri": "https://localhost:8080/"
        },
        "id": "8bWm2kuZsNeB",
        "outputId": "99c863a9-6ec7-4175-bad0-9bf196e61b90"
      },
      "execution_count": null,
      "outputs": [
        {
          "output_type": "stream",
          "name": "stdout",
          "text": [
            "Hello\n",
            "Hello\n",
            "Hello\n",
            "Hello\n",
            "Hello\n",
            "Total runtime of the program is 1.0043704509735107\n"
          ]
        }
      ]
    },
    {
      "cell_type": "markdown",
      "source": [
        "Q12. WAP to create a dictionary of student marks in five subjects and you have to find the student having maximum and minimum average marks."
      ],
      "metadata": {
        "id": "E3sFe7whs4zR"
      }
    },
    {
      "cell_type": "code",
      "source": [
        "def solve(scores):\n",
        "   avg_scores = dict()\n",
        "   for name in scores:\n",
        "      avg_scores[name] = sum(scores[name])/len(scores[name])\n",
        "   return list(avg_scores.values())\n",
        "\n",
        "scores = {'Sasuke' : [25,36,47,45,20], 'Naruto' : [85,74,69,47,70], 'Hinata' : [65,35,87,14,79], 'Sakura' : [74,12,36,75,67]}\n",
        "print('Marks of students in five subjects are --> ',scores)\n",
        "print('Avergae marks of students in all subjects --> ',solve(scores)) \n",
        "print('Minimum avergae marks --> ',min(solve(scores)))\n",
        "print('Maximum average amrks --> ',max(solve(scores)))"
      ],
      "metadata": {
        "colab": {
          "base_uri": "https://localhost:8080/"
        },
        "id": "WScgeEUUs6Du",
        "outputId": "3b696177-5fd4-4571-c570-5b94c5ece807"
      },
      "execution_count": null,
      "outputs": [
        {
          "output_type": "stream",
          "name": "stdout",
          "text": [
            "Marks of students in five subjects are -->  {'Amal': [25, 36, 47, 45, 20], 'Bimal': [85, 74, 69, 47, 70], 'Tarun': [65, 35, 87, 14, 79], 'Akash': [74, 12, 36, 75, 67]}\n",
            "Avergae marks of students in all subjects -->  [34.6, 69.0, 56.0, 52.8]\n",
            "Minimum avergae marks -->  34.6\n",
            "Maximum average amrks -->  69.0\n"
          ]
        }
      ]
    }
  ]
}