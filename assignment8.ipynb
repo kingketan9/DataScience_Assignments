{
  "cells": [
    {
      "cell_type": "markdown",
      "metadata": {
        "id": "view-in-github",
        "colab_type": "text"
      },
      "source": [
        "<a href=\"https://colab.research.google.com/github/kingketan9/Data_Science_Assignment/blob/main/assignment8.ipynb\" target=\"_parent\"><img src=\"https://colab.research.google.com/assets/colab-badge.svg\" alt=\"Open In Colab\"/></a>"
      ]
    },
    {
      "cell_type": "markdown",
      "source": [
        "1. Write a python program to create and display the series s3\n",
        "\n",
        "a 5\n",
        "\n",
        "b 2\n",
        "\n",
        "c NaN\n",
        "\n",
        "d 4.5\n",
        "\n",
        "e 2.1 -add more rows"
      ],
      "metadata": {
        "id": "K-NQwzTrkoCW"
      }
    },
    {
      "cell_type": "code",
      "execution_count": null,
      "metadata": {
        "id": "ELT-JvMSkSxa"
      },
      "outputs": [],
      "source": [
        "import pandas as pd"
      ]
    },
    {
      "cell_type": "code",
      "execution_count": null,
      "metadata": {
        "id": "fHmx3lhXkSxe"
      },
      "outputs": [],
      "source": [
        "from cmath import nan\n",
        "dict = {'a':5,'b':2,'c':nan,'d':4.5,'e':2.1}\n",
        "s3 = pd.Series(dict)\n",
        "s3"
      ]
    },
    {
      "cell_type": "markdown",
      "source": [
        "\n",
        "a) add 10 to each element of series"
      ],
      "metadata": {
        "id": "q3TUNw2Zkulg"
      }
    },
    {
      "cell_type": "code",
      "execution_count": null,
      "metadata": {
        "id": "K2AzdKR8kSxl"
      },
      "outputs": [],
      "source": [
        "s3+10"
      ]
    },
    {
      "cell_type": "markdown",
      "source": [
        "\n",
        "b) Replace NaN with zero\n"
      ],
      "metadata": {
        "id": "H8bowj0tlDdu"
      }
    },
    {
      "cell_type": "code",
      "execution_count": null,
      "metadata": {
        "id": "JUtZeb8pkSxm"
      },
      "outputs": [],
      "source": [
        "s3.fillna(0)"
      ]
    },
    {
      "cell_type": "markdown",
      "source": [
        "c) print(s3[s3&gt;3.0])"
      ],
      "metadata": {
        "id": "rvwv2r0RlJlA"
      }
    },
    {
      "cell_type": "code",
      "execution_count": null,
      "metadata": {
        "id": "jJ4YikT5kSxo"
      },
      "outputs": [],
      "source": [
        "print(s3[s3>3])"
      ]
    },
    {
      "cell_type": "markdown",
      "source": [
        "2. Create a DataFrame for the following attribute\n",
        "\n",
        "Name Phone Zip Code\n",
        "0 John Doe 555-1234 94602\n",
        "\n",
        "1 Jane Doe 555-7864 31101\n",
        "\n",
        "2 Jim Doe 555-6962 34471\n",
        "\n"
      ],
      "metadata": {
        "id": "sD95f38JlXOi"
      }
    },
    {
      "cell_type": "code",
      "execution_count": null,
      "metadata": {
        "id": "OUUUxJjXkSxq"
      },
      "outputs": [],
      "source": [
        "dict1 = {'Name':['John Doe','Jane Doe','Jim Doe'],'Phone':['555-1234','555-7864','555-6962'],'Zip Code':['94602','31101','34471']}\n",
        "df = pd.DataFrame(data=dict1)"
      ]
    },
    {
      "cell_type": "code",
      "execution_count": null,
      "metadata": {
        "id": "WTOJT7EdkSxs"
      },
      "outputs": [],
      "source": [
        "df"
      ]
    },
    {
      "cell_type": "markdown",
      "source": [
        "a) add column Date of birth and Sex(Male/Female ) as a dataframe\n"
      ],
      "metadata": {
        "id": "ABsDWbd7lbqP"
      }
    },
    {
      "cell_type": "code",
      "execution_count": null,
      "metadata": {
        "id": "l_38UPRykSxt"
      },
      "outputs": [],
      "source": [
        "df['Date of birth'] = nan\n",
        "df['Sex'] = nan"
      ]
    },
    {
      "cell_type": "code",
      "execution_count": null,
      "metadata": {
        "id": "GYGNLyKlkSxu"
      },
      "outputs": [],
      "source": [
        "df"
      ]
    },
    {
      "cell_type": "markdown",
      "source": [
        "b) Create more rows as a separate data frames and append to it"
      ],
      "metadata": {
        "id": "aZEcI9W3leKC"
      }
    },
    {
      "cell_type": "code",
      "execution_count": null,
      "metadata": {
        "id": "KcfMNE0kkSxv"
      },
      "outputs": [],
      "source": [
        "dict2 = {'Name':'Janice Doe','Phone':'555-6789','Zip Code':'147004'}\n",
        "df = df.append(dict2,ignore_index='True')\n",
        "df"
      ]
    },
    {
      "cell_type": "markdown",
      "source": [
        "3. Download and read titanic dataset in DataFrame"
      ],
      "metadata": {
        "id": "epwB5NT0lpnL"
      }
    },
    {
      "cell_type": "code",
      "execution_count": null,
      "metadata": {
        "id": "XcRuVjfDkSx3"
      },
      "outputs": [],
      "source": [
        "df = pd.read_csv(\"train.csv\")"
      ]
    },
    {
      "cell_type": "code",
      "execution_count": null,
      "metadata": {
        "id": "rwiBPBdykSx4"
      },
      "outputs": [],
      "source": [
        "df"
      ]
    },
    {
      "cell_type": "markdown",
      "source": [
        "\n",
        "a) show column names\n"
      ],
      "metadata": {
        "id": "zuhEhalGluBE"
      }
    },
    {
      "cell_type": "code",
      "execution_count": null,
      "metadata": {
        "id": "ggOWqsvzkSx5"
      },
      "outputs": [],
      "source": [
        "df.columns"
      ]
    },
    {
      "cell_type": "markdown",
      "source": [
        "b) show tail\n"
      ],
      "metadata": {
        "id": "nbikPej1lyID"
      }
    },
    {
      "cell_type": "code",
      "execution_count": null,
      "metadata": {
        "id": "cY1f4h9HkSx6"
      },
      "outputs": [],
      "source": [
        "df.tail()"
      ]
    },
    {
      "cell_type": "markdown",
      "source": [
        "c) Encode categorical values\n",
        "\n"
      ],
      "metadata": {
        "id": "U__CcNfAmGKW"
      }
    },
    {
      "cell_type": "code",
      "execution_count": null,
      "metadata": {
        "id": "Cn9NhQj9kSx6"
      },
      "outputs": [],
      "source": [
        "df.info()"
      ]
    },
    {
      "cell_type": "code",
      "execution_count": null,
      "metadata": {
        "id": "CPPff4L3kSx8"
      },
      "outputs": [],
      "source": [
        "pd.get_dummies(df,columns=['Sex'],drop_first=True)"
      ]
    },
    {
      "cell_type": "markdown",
      "source": [
        "d) Find statistics of individual column"
      ],
      "metadata": {
        "id": "JYA1nVLomC6d"
      }
    },
    {
      "cell_type": "code",
      "execution_count": null,
      "metadata": {
        "id": "j78CjaXMkSx9"
      },
      "outputs": [],
      "source": [
        "df.describe()"
      ]
    },
    {
      "cell_type": "markdown",
      "source": [
        "e) Handle NANs"
      ],
      "metadata": {
        "id": "rRNpwq3xl8KE"
      }
    },
    {
      "cell_type": "code",
      "execution_count": null,
      "metadata": {
        "id": "t1x83ZfqkSx9"
      },
      "outputs": [],
      "source": [
        "df.fillna(df.mean())"
      ]
    },
    {
      "cell_type": "code",
      "execution_count": null,
      "metadata": {
        "id": "IrZ-wf1-kSx-"
      },
      "outputs": [],
      "source": []
    }
  ],
  "metadata": {
    "kernelspec": {
      "display_name": "Python 3.10.5 64-bit",
      "language": "python",
      "name": "python3"
    },
    "language_info": {
      "codemirror_mode": {
        "name": "ipython",
        "version": 3
      },
      "file_extension": ".py",
      "mimetype": "text/x-python",
      "name": "python",
      "nbconvert_exporter": "python",
      "pygments_lexer": "ipython3",
      "version": "3.10.5"
    },
    "orig_nbformat": 4,
    "vscode": {
      "interpreter": {
        "hash": "26de051ba29f2982a8de78e945f0abaf191376122a1563185a90213a26c5da77"
      }
    },
    "colab": {
      "provenance": [],
      "include_colab_link": true
    }
  },
  "nbformat": 4,
  "nbformat_minor": 0
}