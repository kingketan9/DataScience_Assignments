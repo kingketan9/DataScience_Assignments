{
  "nbformat": 4,
  "nbformat_minor": 0,
  "metadata": {
    "colab": {
      "provenance": [],
      "authorship_tag": "ABX9TyNtwu8MNjN/ZbDvSTc3osTu",
      "include_colab_link": true
    },
    "kernelspec": {
      "name": "python3",
      "display_name": "Python 3"
    },
    "language_info": {
      "name": "python"
    }
  },
  "cells": [
    {
      "cell_type": "markdown",
      "metadata": {
        "id": "view-in-github",
        "colab_type": "text"
      },
      "source": [
        "<a href=\"https://colab.research.google.com/github/kingketan9/DataScience_Assignments/blob/main/Assignment9.ipynb\" target=\"_parent\"><img src=\"https://colab.research.google.com/assets/colab-badge.svg\" alt=\"Open In Colab\"/></a>"
      ]
    },
    {
      "cell_type": "markdown",
      "source": [
        "1) Create a JSON file for this and load into data frame"
      ],
      "metadata": {
        "id": "JId5W7iorjLg"
      }
    },
    {
      "cell_type": "code",
      "execution_count": null,
      "metadata": {
        "id": "3PI4kmWVrOcw"
      },
      "outputs": [],
      "source": [
        "{\n",
        "    \"Sub_id\" : [1,2,3,4,5,6,7,8], \n",
        "    \"Name\" : [\"Erik\", \"Daniel\", \"Michael\", \"Swen\", \"Gary\", \"Carol\",\"Lisa\", \"Elisabeth\"],\n",
        "    \"Salary\" : [723.3,515.20,621.00,721.00,844.15,558.00,642.80,732.50],  \n",
        "    \"StarData\" : [\"1/1/2011\", \"7/12/2013\", \"12/15/2011\", \"6/11/2013\", \"3/27/2011\", \"5/21/2012\", \"7/30/2013\", \"6/17/2014\"],\n",
        "    \"Department\" : [\"IT\", \"Management\", \"IT\", \"HR\", \"Finance\", \"IT\", \"Management\", \"IT\"],\n",
        "    \"Sex\" : [\"M\", \"M\", \"M\", \"M\", \"M\", \"F\", \"F\", \"F\"]\n",
        "}"
      ]
    },
    {
      "cell_type": "code",
      "source": [
        "import pandas as pd\n",
        "df = pd.read_json('/content/sample.json')\n",
        "df"
      ],
      "metadata": {
        "id": "kW_JHTv6yOsA"
      },
      "execution_count": null,
      "outputs": []
    },
    {
      "cell_type": "markdown",
      "source": [
        "2) Load sample2.jason into datafrme\n"
      ],
      "metadata": {
        "id": "jhpf4GDEuPmt"
      }
    },
    {
      "cell_type": "code",
      "source": [
        "df = pd.read_json('/content/sample2.json',orient=\"index\")\n",
        "df\n"
      ],
      "metadata": {
        "id": "hosXW-nzxBT6"
      },
      "execution_count": null,
      "outputs": []
    },
    {
      "cell_type": "markdown",
      "source": [
        "3) Load the Iris dataset from the UCI repository directly into the data frame\n"
      ],
      "metadata": {
        "id": "bkzVK0l5uRht"
      }
    },
    {
      "cell_type": "code",
      "source": [
        "df = pd.read_csv('/content/iris.data')\n",
        "df"
      ],
      "metadata": {
        "id": "m8NwHfaS13cQ"
      },
      "execution_count": null,
      "outputs": []
    },
    {
      "cell_type": "markdown",
      "source": [
        "4) Get the list of states and Union territories from Wikipedia and store it in two CSV files"
      ],
      "metadata": {
        "id": "JvIb5rqEuTTx"
      }
    },
    {
      "cell_type": "code",
      "source": [
        "url = 'https://en.wikipedia.org/wiki/States_and_union_territories_of_India'\n",
        "df = pd.read_html(url, match='Union territory', header=0)\n",
        "df[0]\n",
        "df[0].to_csv(\"Unionterritories.csv\")"
      ],
      "metadata": {
        "id": "kJ6XHV8O2xto"
      },
      "execution_count": 30,
      "outputs": []
    },
    {
      "cell_type": "code",
      "source": [
        "url = 'https://en.wikipedia.org/wiki/States_and_union_territories_of_India'\n",
        "df = pd.read_html(url, match='Statehood', header=0)\n",
        "df[0]\n",
        "df[0].to_csv(\"States.csv\")"
      ],
      "metadata": {
        "id": "A97Fkk3n3v4V"
      },
      "execution_count": 31,
      "outputs": []
    },
    {
      "cell_type": "code",
      "source": [],
      "metadata": {
        "id": "APhfOW_T4ooM"
      },
      "execution_count": null,
      "outputs": []
    }
  ]
}