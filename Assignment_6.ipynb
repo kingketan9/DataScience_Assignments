{
  "nbformat": 4,
  "nbformat_minor": 0,
  "metadata": {
    "colab": {
      "provenance": [],
      "authorship_tag": "ABX9TyPBOZWJP7ddXRx2GJZU8n/8",
      "include_colab_link": true
    },
    "kernelspec": {
      "name": "python3",
      "display_name": "Python 3"
    },
    "language_info": {
      "name": "python"
    }
  },
  "cells": [
    {
      "cell_type": "markdown",
      "metadata": {
        "id": "view-in-github",
        "colab_type": "text"
      },
      "source": [
        "<a href=\"https://colab.research.google.com/github/kingketan9/Data_Science_Assignment/blob/main/Assignment_6.ipynb\" target=\"_parent\"><img src=\"https://colab.research.google.com/assets/colab-badge.svg\" alt=\"Open In Colab\"/></a>"
      ]
    },
    {
      "cell_type": "code",
      "execution_count": null,
      "metadata": {
        "id": "Qhram9RksjAS"
      },
      "outputs": [],
      "source": [
        "l, u, p, d = 0, 0, 0, 0\n",
        "specialchar = \"@#$&%!~\"\n",
        "s = input(\"Enter you password : \")\n",
        "if (len(s) >= 12):\n",
        "\tfor i in s:\n",
        "\n",
        "\t\tif (i.islower()):\n",
        "\t\t\tl+=1\t\t\n",
        "\n",
        "\t\tif (i.isupper()):\n",
        "\t\t\tu+=1\t\t\n",
        "\n",
        "\t\tif (i.isdigit()):\n",
        "\t\t\td+=1\t\t\n",
        "\n",
        "\t\tif(i in specialchar):\n",
        "\t\t\tp+=1\t\t\n",
        "if (l>=1 and u>=1 and p>=1 and d>=1 and l+p+u+d>=len(s)):\n",
        "\tprint(\"Valid Password\")\n",
        "else:\n",
        "\tprint(\"Invalid Password\")"
      ]
    },
    {
      "cell_type": "code",
      "source": [
        "from os import system\n",
        "from time import sleep\n",
        "import platform\n",
        "\n",
        "if platform.system() == \"Windows\":\n",
        "    def clear():\n",
        "        system(\"cls\")\n",
        "else:\n",
        "    def clear():\n",
        "        system(\"clear\")\n",
        "\n",
        "def exit(i):\n",
        "    while i != 0:\n",
        "        clear()\n",
        "        print(\"The program will exit in \"+str(int(i))+\" seconds.\")\n",
        "        sleep(1)\n",
        "        i -= 1\n",
        "    if i == 0:\n",
        "        clear()\n",
        "\n",
        "def calculator():\n",
        "    \n",
        "    clear()\n",
        "    \n",
        "    def num1_input():\n",
        "        try:\n",
        "            num1_input.num1 = float(input(\"num1: \"))\n",
        "        except ValueError:\n",
        "            clear()\n",
        "            print(\"Invalid number, try again!\")\n",
        "            num1_input()\n",
        "        except AttributeError:\n",
        "            clear()\n",
        "            print(\"Invalid number, try again!\")\n",
        "            num1_input()\n",
        "    num1_input()\n",
        "    num1 = num1_input.num1\n",
        "\n",
        "    clear()\n",
        "\n",
        "    def operator_input():\n",
        "        operator_input.operator = input(\"[+] = addition\\n[-] = substraction\\n[*] = multiplication\\n[/] = division\\noperator: \")\n",
        "        operators = [\"/\",\"*\",\"+\",\"-\"]\n",
        "        if operator_input.operator not in operators:\n",
        "            clear()\n",
        "            print(\"Incorrect operator, try again!\")\n",
        "            operator_input()\n",
        "    operator_input()\n",
        "    operator = operator_input.operator\n",
        "\n",
        "    clear()\n",
        "\n",
        "    def num2_input():\n",
        "        try:\n",
        "            num2_input.num2 = float(input(\"num2: \"))\n",
        "        except ValueError:\n",
        "            clear()\n",
        "            print(\"Invalid number, try again!\")\n",
        "            num2_input()\n",
        "    num2_input()\n",
        "    num2 = num2_input.num2\n",
        "\n",
        "    def operator_choose():\n",
        "        if operator == \"+\":\n",
        "            operator_choose.answer = num1 + num2\n",
        "        elif operator == \"-\":\n",
        "            operator_choose.answer = num1 - num2\n",
        "        elif operator == \"*\":\n",
        "            operator_choose.answer = num1 * num2\n",
        "        elif operator == \"/\":\n",
        "            operator_choose.answer = num1 / num2\n",
        "    operator_choose()\n",
        "    final_answer = operator_choose.answer\n",
        "\n",
        "    def answer_round():\n",
        "        if final_answer % 1 == 0:\n",
        "            answer_round.answer = int(final_answer)\n",
        "        else:\n",
        "            answer_round.answer = float(final_answer)\n",
        "    answer_round()\n",
        "    answer = answer_round.answer\n",
        "\n",
        "    def answer_prompt():\n",
        "        clear()\n",
        "        print(\"answer: \"+str(answer))\n",
        "    answer_prompt()\n",
        "\n",
        "    def con():\n",
        "        var = input(\"[1] = new calculation\\n[2] = quit game\\nYou: \")\n",
        "        if var == \"1\":\n",
        "              calculator()\n",
        "        if var == \"2\":\n",
        "            exit(3)\n",
        "        else:\n",
        "            clear()\n",
        "            answer_prompt()\n",
        "            print(\"Wrong input, try again!\")\n",
        "            con()\n",
        "    con()\n",
        "calculator()"
      ],
      "metadata": {
        "id": "RVA9c-fNs0qp",
        "outputId": "ee74cc84-e094-4489-b3c7-b9f73ffa5174",
        "colab": {
          "base_uri": "https://localhost:8080/",
          "height": 347
        }
      },
      "execution_count": 1,
      "outputs": [
        {
          "output_type": "error",
          "ename": "KeyboardInterrupt",
          "evalue": "ignored",
          "traceback": [
            "\u001b[0;31m---------------------------------------------------------------------------\u001b[0m",
            "\u001b[0;31mKeyboardInterrupt\u001b[0m                         Traceback (most recent call last)",
            "\u001b[0;32m<ipython-input-1-41171ac5453b>\u001b[0m in \u001b[0;36m<module>\u001b[0;34m\u001b[0m\n\u001b[1;32m    109\u001b[0m             \u001b[0mcon\u001b[0m\u001b[0;34m(\u001b[0m\u001b[0;34m)\u001b[0m\u001b[0;34m\u001b[0m\u001b[0;34m\u001b[0m\u001b[0m\n\u001b[1;32m    110\u001b[0m     \u001b[0mcon\u001b[0m\u001b[0;34m(\u001b[0m\u001b[0;34m)\u001b[0m\u001b[0;34m\u001b[0m\u001b[0;34m\u001b[0m\u001b[0m\n\u001b[0;32m--> 111\u001b[0;31m \u001b[0mcalculator\u001b[0m\u001b[0;34m(\u001b[0m\u001b[0;34m)\u001b[0m\u001b[0;34m\u001b[0m\u001b[0;34m\u001b[0m\u001b[0m\n\u001b[0m",
            "\u001b[0;32m<ipython-input-1-41171ac5453b>\u001b[0m in \u001b[0;36mcalculator\u001b[0;34m()\u001b[0m\n\u001b[1;32m    108\u001b[0m             \u001b[0mprint\u001b[0m\u001b[0;34m(\u001b[0m\u001b[0;34m\"Wrong input, try again!\"\u001b[0m\u001b[0;34m)\u001b[0m\u001b[0;34m\u001b[0m\u001b[0;34m\u001b[0m\u001b[0m\n\u001b[1;32m    109\u001b[0m             \u001b[0mcon\u001b[0m\u001b[0;34m(\u001b[0m\u001b[0;34m)\u001b[0m\u001b[0;34m\u001b[0m\u001b[0;34m\u001b[0m\u001b[0m\n\u001b[0;32m--> 110\u001b[0;31m     \u001b[0mcon\u001b[0m\u001b[0;34m(\u001b[0m\u001b[0;34m)\u001b[0m\u001b[0;34m\u001b[0m\u001b[0;34m\u001b[0m\u001b[0m\n\u001b[0m\u001b[1;32m    111\u001b[0m \u001b[0mcalculator\u001b[0m\u001b[0;34m(\u001b[0m\u001b[0;34m)\u001b[0m\u001b[0;34m\u001b[0m\u001b[0;34m\u001b[0m\u001b[0m\n",
            "\u001b[0;32m<ipython-input-1-41171ac5453b>\u001b[0m in \u001b[0;36mcon\u001b[0;34m()\u001b[0m\n\u001b[1;32m     98\u001b[0m     \u001b[0;31m# restart program or continue\u001b[0m\u001b[0;34m\u001b[0m\u001b[0;34m\u001b[0m\u001b[0;34m\u001b[0m\u001b[0m\n\u001b[1;32m     99\u001b[0m     \u001b[0;32mdef\u001b[0m \u001b[0mcon\u001b[0m\u001b[0;34m(\u001b[0m\u001b[0;34m)\u001b[0m\u001b[0;34m:\u001b[0m\u001b[0;34m\u001b[0m\u001b[0;34m\u001b[0m\u001b[0m\n\u001b[0;32m--> 100\u001b[0;31m         \u001b[0mvar\u001b[0m \u001b[0;34m=\u001b[0m \u001b[0minput\u001b[0m\u001b[0;34m(\u001b[0m\u001b[0;34m\"[1] = new calculation\\n[2] = quit game\\nYou: \"\u001b[0m\u001b[0;34m)\u001b[0m\u001b[0;34m\u001b[0m\u001b[0;34m\u001b[0m\u001b[0m\n\u001b[0m\u001b[1;32m    101\u001b[0m         \u001b[0;32mif\u001b[0m \u001b[0mvar\u001b[0m \u001b[0;34m==\u001b[0m \u001b[0;34m\"1\"\u001b[0m\u001b[0;34m:\u001b[0m\u001b[0;34m\u001b[0m\u001b[0;34m\u001b[0m\u001b[0m\n\u001b[1;32m    102\u001b[0m               \u001b[0mcalculator\u001b[0m\u001b[0;34m(\u001b[0m\u001b[0;34m)\u001b[0m\u001b[0;34m\u001b[0m\u001b[0;34m\u001b[0m\u001b[0m\n",
            "\u001b[0;32m/usr/local/lib/python3.7/dist-packages/ipykernel/kernelbase.py\u001b[0m in \u001b[0;36mraw_input\u001b[0;34m(self, prompt)\u001b[0m\n\u001b[1;32m    861\u001b[0m             \u001b[0mself\u001b[0m\u001b[0;34m.\u001b[0m\u001b[0m_parent_ident\u001b[0m\u001b[0;34m,\u001b[0m\u001b[0;34m\u001b[0m\u001b[0;34m\u001b[0m\u001b[0m\n\u001b[1;32m    862\u001b[0m             \u001b[0mself\u001b[0m\u001b[0;34m.\u001b[0m\u001b[0m_parent_header\u001b[0m\u001b[0;34m,\u001b[0m\u001b[0;34m\u001b[0m\u001b[0;34m\u001b[0m\u001b[0m\n\u001b[0;32m--> 863\u001b[0;31m             \u001b[0mpassword\u001b[0m\u001b[0;34m=\u001b[0m\u001b[0;32mFalse\u001b[0m\u001b[0;34m,\u001b[0m\u001b[0;34m\u001b[0m\u001b[0;34m\u001b[0m\u001b[0m\n\u001b[0m\u001b[1;32m    864\u001b[0m         )\n\u001b[1;32m    865\u001b[0m \u001b[0;34m\u001b[0m\u001b[0m\n",
            "\u001b[0;32m/usr/local/lib/python3.7/dist-packages/ipykernel/kernelbase.py\u001b[0m in \u001b[0;36m_input_request\u001b[0;34m(self, prompt, ident, parent, password)\u001b[0m\n\u001b[1;32m    902\u001b[0m             \u001b[0;32mexcept\u001b[0m \u001b[0mKeyboardInterrupt\u001b[0m\u001b[0;34m:\u001b[0m\u001b[0;34m\u001b[0m\u001b[0;34m\u001b[0m\u001b[0m\n\u001b[1;32m    903\u001b[0m                 \u001b[0;31m# re-raise KeyboardInterrupt, to truncate traceback\u001b[0m\u001b[0;34m\u001b[0m\u001b[0;34m\u001b[0m\u001b[0;34m\u001b[0m\u001b[0m\n\u001b[0;32m--> 904\u001b[0;31m                 \u001b[0;32mraise\u001b[0m \u001b[0mKeyboardInterrupt\u001b[0m\u001b[0;34m(\u001b[0m\u001b[0;34m\"Interrupted by user\"\u001b[0m\u001b[0;34m)\u001b[0m \u001b[0;32mfrom\u001b[0m \u001b[0;32mNone\u001b[0m\u001b[0;34m\u001b[0m\u001b[0;34m\u001b[0m\u001b[0m\n\u001b[0m\u001b[1;32m    905\u001b[0m             \u001b[0;32mexcept\u001b[0m \u001b[0mException\u001b[0m \u001b[0;32mas\u001b[0m \u001b[0me\u001b[0m\u001b[0;34m:\u001b[0m\u001b[0;34m\u001b[0m\u001b[0;34m\u001b[0m\u001b[0m\n\u001b[1;32m    906\u001b[0m                 \u001b[0mself\u001b[0m\u001b[0;34m.\u001b[0m\u001b[0mlog\u001b[0m\u001b[0;34m.\u001b[0m\u001b[0mwarning\u001b[0m\u001b[0;34m(\u001b[0m\u001b[0;34m\"Invalid Message:\"\u001b[0m\u001b[0;34m,\u001b[0m \u001b[0mexc_info\u001b[0m\u001b[0;34m=\u001b[0m\u001b[0;32mTrue\u001b[0m\u001b[0;34m)\u001b[0m\u001b[0;34m\u001b[0m\u001b[0;34m\u001b[0m\u001b[0m\n",
            "\u001b[0;31mKeyboardInterrupt\u001b[0m: Interrupted by user"
          ]
        }
      ]
    }
  ]
}