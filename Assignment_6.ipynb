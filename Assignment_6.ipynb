{
  "nbformat": 4,
  "nbformat_minor": 0,
  "metadata": {
    "colab": {
      "provenance": [],
      "authorship_tag": "ABX9TyMEMZosu8YMeUYgvzIPFuwS",
      "include_colab_link": true
    },
    "kernelspec": {
      "name": "python3",
      "display_name": "Python 3"
    },
    "language_info": {
      "name": "python"
    }
  },
  "cells": [
    {
      "cell_type": "markdown",
      "metadata": {
        "id": "view-in-github",
        "colab_type": "text"
      },
      "source": [
        "<a href=\"https://colab.research.google.com/github/kingketan9/Data_Science_Assignment/blob/main/Assignment_6.ipynb\" target=\"_parent\"><img src=\"https://colab.research.google.com/assets/colab-badge.svg\" alt=\"Open In Colab\"/></a>"
      ]
    },
    {
      "cell_type": "markdown",
      "source": [
        "Q1"
      ],
      "metadata": {
        "id": "HVUb_gqp_vjy"
      }
    },
    {
      "cell_type": "code",
      "execution_count": null,
      "metadata": {
        "id": "Qhram9RksjAS"
      },
      "outputs": [],
      "source": [
        "l, u, p, d = 0, 0, 0, 0\n",
        "specialchar = \"@#$&%!~\"\n",
        "s = input(\"Enter you password : \")\n",
        "if (len(s) >= 12):\n",
        "\tfor i in s:\n",
        "\n",
        "\t\tif (i.islower()):\n",
        "\t\t\tl+=1\t\t\n",
        "\n",
        "\t\tif (i.isupper()):\n",
        "\t\t\tu+=1\t\t\n",
        "\n",
        "\t\tif (i.isdigit()):\n",
        "\t\t\td+=1\t\t\n",
        "\n",
        "\t\tif(i in specialchar):\n",
        "\t\t\tp+=1\t\t\n",
        "if (l>=1 and u>=1 and p>=1 and d>=1 and l+p+u+d>=len(s)):\n",
        "\tprint(\"Valid Password\")\n",
        "else:\n",
        "\tprint(\"Invalid Password\")"
      ]
    },
    {
      "cell_type": "markdown",
      "source": [
        "Q2"
      ],
      "metadata": {
        "id": "lcYsycE2_xeo"
      }
    },
    {
      "cell_type": "code",
      "source": [
        "from os import system\n",
        "from time import sleep\n",
        "import platform\n",
        "\n",
        "if platform.system() == \"Windows\":\n",
        "    def clear():\n",
        "        system(\"cls\")\n",
        "else:\n",
        "    def clear():\n",
        "        system(\"clear\")\n",
        "\n",
        "def exit(i):\n",
        "    while i != 0:\n",
        "        clear()\n",
        "        print(\"The program will exit in \"+str(int(i))+\" seconds.\")\n",
        "        sleep(1)\n",
        "        i -= 1\n",
        "    if i == 0:\n",
        "        clear()\n",
        "\n",
        "def calculator():\n",
        "    \n",
        "    clear()\n",
        "    \n",
        "    def num1_input():\n",
        "        try:\n",
        "            num1_input.num1 = float(input(\"num1: \"))\n",
        "        except ValueError:\n",
        "            clear()\n",
        "            print(\"Invalid number, try again!\")\n",
        "            num1_input()\n",
        "        except AttributeError:\n",
        "            clear()\n",
        "            print(\"Invalid number, try again!\")\n",
        "            num1_input()\n",
        "    num1_input()\n",
        "    num1 = num1_input.num1\n",
        "\n",
        "    clear()\n",
        "\n",
        "    def operator_input():\n",
        "        operator_input.operator = input(\"[+] = addition\\n[-] = substraction\\n[*] = multiplication\\n[/] = division\\noperator: \")\n",
        "        operators = [\"/\",\"*\",\"+\",\"-\"]\n",
        "        if operator_input.operator not in operators:\n",
        "            clear()\n",
        "            print(\"Incorrect operator, try again!\")\n",
        "            operator_input()\n",
        "    operator_input()\n",
        "    operator = operator_input.operator\n",
        "\n",
        "    clear()\n",
        "\n",
        "    def num2_input():\n",
        "        try:\n",
        "            num2_input.num2 = float(input(\"num2: \"))\n",
        "        except ValueError:\n",
        "            clear()\n",
        "            print(\"Invalid number, try again!\")\n",
        "            num2_input()\n",
        "    num2_input()\n",
        "    num2 = num2_input.num2\n",
        "\n",
        "    def operator_choose():\n",
        "        if operator == \"+\":\n",
        "            operator_choose.answer = num1 + num2\n",
        "        elif operator == \"-\":\n",
        "            operator_choose.answer = num1 - num2\n",
        "        elif operator == \"*\":\n",
        "            operator_choose.answer = num1 * num2\n",
        "        elif operator == \"/\":\n",
        "            operator_choose.answer = num1 / num2\n",
        "    operator_choose()\n",
        "    final_answer = operator_choose.answer\n",
        "\n",
        "    def answer_round():\n",
        "        if final_answer % 1 == 0:\n",
        "            answer_round.answer = int(final_answer)\n",
        "        else:\n",
        "            answer_round.answer = float(final_answer)\n",
        "    answer_round()\n",
        "    answer = answer_round.answer\n",
        "\n",
        "    def answer_prompt():\n",
        "        clear()\n",
        "        print(\"answer: \"+str(answer))\n",
        "    answer_prompt()\n",
        "\n",
        "    def con():\n",
        "        var = input(\"[1] = new calculation\\n[2] = quit game\\nYou: \")\n",
        "        if var == \"1\":\n",
        "              calculator()\n",
        "        if var == \"2\":\n",
        "            exit(3)\n",
        "        else:\n",
        "            clear()\n",
        "            answer_prompt()\n",
        "            print(\"Wrong input, try again!\")\n",
        "            con()\n",
        "    con()\n",
        "calculator()"
      ],
      "metadata": {
        "id": "M_btPzND_uno"
      },
      "execution_count": null,
      "outputs": []
    }
  ]
}