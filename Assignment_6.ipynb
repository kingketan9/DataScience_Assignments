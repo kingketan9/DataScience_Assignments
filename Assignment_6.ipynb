{
  "nbformat": 4,
  "nbformat_minor": 0,
  "metadata": {
    "colab": {
      "provenance": [],
      "authorship_tag": "ABX9TyNuTyO6FUkmzoKTdZy8/N6E",
      "include_colab_link": true
    },
    "kernelspec": {
      "name": "python3",
      "display_name": "Python 3"
    },
    "language_info": {
      "name": "python"
    }
  },
  "cells": [
    {
      "cell_type": "markdown",
      "metadata": {
        "id": "view-in-github",
        "colab_type": "text"
      },
      "source": [
        "<a href=\"https://colab.research.google.com/github/kingketan9/Data_Science_Assignment/blob/main/Assignment_6.ipynb\" target=\"_parent\"><img src=\"https://colab.research.google.com/assets/colab-badge.svg\" alt=\"Open In Colab\"/></a>"
      ]
    },
    {
      "cell_type": "code",
      "execution_count": 5,
      "metadata": {
        "colab": {
          "base_uri": "https://localhost:8080/"
        },
        "id": "Qhram9RksjAS",
        "outputId": "b4fee1a6-f34d-4cbc-865d-c578afb07ec0"
      },
      "outputs": [
        {
          "output_type": "stream",
          "name": "stdout",
          "text": [
            "Enter you password : @nimeLord11!\n",
            "Valid Password\n"
          ]
        }
      ],
      "source": [
        "l, u, p, d = 0, 0, 0, 0\n",
        "specialchar = \"@#$&%!~\"\n",
        "s = input(\"Enter you password : \")\n",
        "if (len(s) >= 12):\n",
        "\tfor i in s:\n",
        "\n",
        "\t\t# counting lowercase alphabets\n",
        "\t\tif (i.islower()):\n",
        "\t\t\tl+=1\t\t\n",
        "\n",
        "\t\t# counting uppercase alphabets\n",
        "\t\tif (i.isupper()):\n",
        "\t\t\tu+=1\t\t\n",
        "\n",
        "\t\t# counting digits\n",
        "\t\tif (i.isdigit()):\n",
        "\t\t\td+=1\t\t\n",
        "\n",
        "\t\t# counting the mentioned special characters\n",
        "\t\tif(i in specialchar):\n",
        "\t\t\tp+=1\t\t\n",
        "if (l>=1 and u>=1 and p>=1 and d>=1 and l+p+u+d>=len(s)):\n",
        "\tprint(\"Valid Password\")\n",
        "else:\n",
        "\tprint(\"Invalid Password\")"
      ]
    },
    {
      "cell_type": "code",
      "source": [],
      "metadata": {
        "id": "RVA9c-fNs0qp"
      },
      "execution_count": null,
      "outputs": []
    }
  ]
}