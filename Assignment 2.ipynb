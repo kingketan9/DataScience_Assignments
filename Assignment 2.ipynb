{
  "nbformat": 4,
  "nbformat_minor": 0,
  "metadata": {
    "colab": {
      "name": "Untitled23.ipynb",
      "provenance": [],
      "authorship_tag": "ABX9TyOB6wNxt0mDNDND07R3wiFU",
      "include_colab_link": true
    },
    "kernelspec": {
      "name": "python3",
      "display_name": "Python 3"
    },
    "language_info": {
      "name": "python"
    }
  },
  "cells": [
    {
      "cell_type": "markdown",
      "metadata": {
        "id": "view-in-github",
        "colab_type": "text"
      },
      "source": [
        "<a href=\"https://colab.research.google.com/github/kingketan9/Data_Science_Assignment/blob/main/Assignment%202.ipynb\" target=\"_parent\"><img src=\"https://colab.research.google.com/assets/colab-badge.svg\" alt=\"Open In Colab\"/></a>"
      ]
    },
    {
      "cell_type": "markdown",
      "source": [
        "Write a Python program for the following operations\n",
        "1. Enter ten sentences about yourself.\n"
      ],
      "metadata": {
        "id": "k2dBY7CJB-XR"
      }
    },
    {
      "cell_type": "code",
      "execution_count": null,
      "metadata": {
        "id": "pGwALS4XB8PE"
      },
      "outputs": [],
      "source": [
        "a = \"I’m Vipul Konar, and I am 7 years old.\"\n",
        "b = \"I study at Delhi Public School in the fourth standard.\"\n",
        "c = \"My father’s name is Mr. Adhitya Konar, and my mother’s name is Mrs. Alar Konar.\"\n",
        "d = \"I have one younger sister who studies in the first standard in the same school.\"\n",
        "e = \"I like watching cartoons, and my favorite cartoon character is Sinchan.\"\n",
        "f = \"I also love playing Indoor games with my sister. And, I love playing cricketwith my friends.\"\n",
        "g = \"I am a very honest and decent boy and follow all the instructions from my parents and teachers.\"\n",
        "h = \"I complete my homework regularly and never get late to school.\"\n",
        "i = \"I pay attention and respect to my teachers and elders. Also, I follow every piece of advice from them.\"\n",
        "j = \"I try to help my mother and father by keeping all the toys at the right place after playing with them.\"\n",
        "\n",
        "x = a + \" \" + b + \" \" + c + \" \" + d + \" \" + e + \" \" + f + \" \" + g + \" \" + h + \" \" + i + \" \" + j"
      ]
    },
    {
      "cell_type": "markdown",
      "source": [
        "2. Print the frequency of each word sentence-wise and document-wise.\n"
      ],
      "metadata": {
        "id": "Hxj96nemCBmD"
      }
    },
    {
      "cell_type": "code",
      "source": [
        "def printFrequency(strr):\n",
        "    M = {}\n",
        "     \n",
        "    word = \"\"\n",
        "     \n",
        "    for i in range(len(strr)):\n",
        "         \n",
        "        if (strr[i] == ' '):\n",
        "\n",
        "            if (word not in M):\n",
        "                M[word] = 1\n",
        "                word = \"\"\n",
        "             \n",
        "            else:\n",
        "                M[word] += 1\n",
        "                word = \"\"\n",
        "         \n",
        "        else:\n",
        "            word += strr[i]\n",
        "     \n",
        "    if (word not in M):\n",
        "        M[word] = 1\n",
        "     \n",
        "    else:\n",
        "        M[word] += 1\n",
        "         \n",
        "    for it in M:\n",
        "        print(it, \"-\", M[it])\n",
        "     \n",
        "printFrequency(a)\n",
        "printFrequency(b)\n",
        "printFrequency(c)\n",
        "printFrequency(d)\n",
        "printFrequency(e)\n",
        "printFrequency(f)\n",
        "printFrequency(g)\n",
        "printFrequency(h)\n",
        "printFrequency(i)\n",
        "printFrequency(j)\n",
        "print(\"#######################\")\n",
        "printFrequency(x)"
      ],
      "metadata": {
        "id": "7ER0KBNaEAuo"
      },
      "execution_count": null,
      "outputs": []
    },
    {
      "cell_type": "markdown",
      "source": [
        "3. Print the frequency of each letter sentence-wise and document-wise.\n"
      ],
      "metadata": {
        "id": "aPCPwHKICEX3"
      }
    },
    {
      "cell_type": "code",
      "source": [],
      "metadata": {
        "id": "zvjkDk38H8uf"
      },
      "execution_count": null,
      "outputs": []
    },
    {
      "cell_type": "markdown",
      "source": [
        "4. Remove all the punctuations in the given text\n"
      ],
      "metadata": {
        "id": "IYWhp9JgCGar"
      }
    },
    {
      "cell_type": "code",
      "source": [
        "def Punctuation(string):\n",
        " \n",
        "    # punctuation marks\n",
        "    punctuations = '''!()-[]{};:'\"\\,<>./?@#$%^&*_~'''\n",
        " \n",
        "    for x in string.lower():\n",
        "        if x in punctuations:\n",
        "            string = string.replace(x, \"\")\n",
        "\n",
        "    print(string)\n",
        "\n",
        "Punctuation(a)\n",
        "Punctuation(b)\n",
        "Punctuation(c)\n",
        "Punctuation(d)\n",
        "Punctuation(e)\n",
        "Punctuation(f)\n",
        "Punctuation(g)\n",
        "Punctuation(h)\n",
        "Punctuation(i)\n",
        "Punctuation(j)"
      ],
      "metadata": {
        "id": "B-i5OJXeInS_"
      },
      "execution_count": null,
      "outputs": []
    },
    {
      "cell_type": "markdown",
      "source": [
        "5. Remove all the stopwords ( ‘a’ , ‘the’, ‘was’…) from the text\n"
      ],
      "metadata": {
        "id": "Pen_QfHUCIZC"
      }
    },
    {
      "cell_type": "code",
      "source": [
        "import nltk\n",
        "nltk.download('stopwords')\n",
        "nltk.download('punkt')\n",
        "from nltk.corpus import stopwords\n",
        "from nltk.tokenize import word_tokenize"
      ],
      "metadata": {
        "id": "sAGiL8-kJZdf"
      },
      "execution_count": null,
      "outputs": []
    },
    {
      "cell_type": "code",
      "source": [
        "stop_words = set(stopwords.words('english'))  \n",
        "word_tokens = word_tokenize(x)\n",
        "  \n",
        "filtered_sentence = [w for w in word_tokens if not w.lower() in stop_words]\n",
        "  \n",
        "filtered_sentence = []\n",
        "  \n",
        "for w in word_tokens:\n",
        "    if w not in stop_words:\n",
        "        filtered_sentence.append(w)\n",
        "\n",
        "print(filtered_sentence)\n"
      ],
      "metadata": {
        "id": "7qufSItLJL5_"
      },
      "execution_count": null,
      "outputs": []
    },
    {
      "cell_type": "markdown",
      "source": [
        "6. Extract the top 10 most common words in the given text excluding stopwords."
      ],
      "metadata": {
        "id": "yFOXXJlnCKTI"
      }
    },
    {
      "cell_type": "code",
      "source": [
        "from collections import Counter\n",
        "\n",
        "y = \" \".join(filtered_sentence)  \n",
        "split_it = y.split()\n",
        "  \n",
        "Counter = Counter(split_it)\n",
        "  \n",
        "most_occur = Counter.most_common(10)\n",
        "  \n",
        "print(most_occur)"
      ],
      "metadata": {
        "colab": {
          "base_uri": "https://localhost:8080/"
        },
        "id": "_ks44_VsgMy0",
        "outputId": "fe9f1814-9cd5-4ce9-d473-fc0383146814"
      },
      "execution_count": 44,
      "outputs": [
        {
          "output_type": "stream",
          "name": "stdout",
          "text": [
            "[('I', 12), ('.', 12), (',', 5), ('’', 3), ('Konar', 3), ('playing', 3), ('standard', 2), ('father', 2), ('name', 2), ('mother', 2)]\n"
          ]
        }
      ]
    }
  ]
}