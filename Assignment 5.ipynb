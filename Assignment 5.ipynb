{
  "nbformat": 4,
  "nbformat_minor": 0,
  "metadata": {
    "colab": {
      "provenance": [],
      "authorship_tag": "ABX9TyM+xt8kd9vK9kWrd0osGNp8",
      "include_colab_link": true
    },
    "kernelspec": {
      "name": "python3",
      "display_name": "Python 3"
    },
    "language_info": {
      "name": "python"
    }
  },
  "cells": [
    {
      "cell_type": "markdown",
      "metadata": {
        "id": "view-in-github",
        "colab_type": "text"
      },
      "source": [
        "<a href=\"https://colab.research.google.com/github/kingketan9/Data_Science_Assignment/blob/main/Assignment%205.ipynb\" target=\"_parent\"><img src=\"https://colab.research.google.com/assets/colab-badge.svg\" alt=\"Open In Colab\"/></a>"
      ]
    },
    {
      "cell_type": "markdown",
      "source": [
        "1. Write regexes to match the following patterns:\n"
      ],
      "metadata": {
        "id": "I0gkmGm0bjow"
      }
    },
    {
      "cell_type": "markdown",
      "source": [
        "a) An email address, i.e. someone@somewhere.com"
      ],
      "metadata": {
        "id": "r10JQT0mbs4H"
      }
    },
    {
      "cell_type": "code",
      "execution_count": 2,
      "metadata": {
        "id": "wbb2yD0kUvCP"
      },
      "outputs": [],
      "source": [
        "import re as r"
      ]
    },
    {
      "cell_type": "code",
      "source": [
        "s = \"Hi this is my email. please mail the following content on this mail, shubhamg199630@gmail.com\"\n",
        "\n",
        "lst = r.findall('\\S+@\\S+\\.com', s)\t\n",
        "\n",
        "print(lst)"
      ],
      "metadata": {
        "id": "x_hY7eZVYLhT"
      },
      "execution_count": null,
      "outputs": []
    },
    {
      "cell_type": "markdown",
      "source": [
        "b) A URL (http://www.website.com/page or similar)"
      ],
      "metadata": {
        "id": "0L42p4nWdCz3"
      }
    },
    {
      "cell_type": "code",
      "source": [
        "def isValidURL(str):\n",
        "\n",
        "\tcheck = (\"((http|https)://)(www.)?\" + \"\\S+.\\S\")\n",
        "\t\n",
        "\tp = r.compile(check)\n",
        "\n",
        "\tif (str == None):\n",
        "\t\treturn False\n",
        "\n",
        "\tif(r.search(p, str)):\n",
        "\t\treturn True\n",
        "\telse:\n",
        "\t\treturn False\n",
        "\n",
        "url = \"http://www.ab\"\n",
        "\n",
        "if(isValidURL(url) == True):\n",
        "\tprint(\"Yes\")\n",
        "else:\n",
        "\tprint(\"No\")"
      ],
      "metadata": {
        "id": "vwFLXYNLcjLG"
      },
      "execution_count": null,
      "outputs": []
    },
    {
      "cell_type": "markdown",
      "source": [
        "c) A name listed as lastname, firstname with the first letter of each capitalized"
      ],
      "metadata": {
        "id": "SGEWxWOchGrO"
      }
    },
    {
      "cell_type": "code",
      "source": [
        "s = \"This is my name Ketan Goyal. Nice to meet you.\"\n",
        "lst = r.findall('[A-Z]\\S+\\s[A-Z]\\S+',s)\n",
        "print(lst)"
      ],
      "metadata": {
        "colab": {
          "base_uri": "https://localhost:8080/"
        },
        "id": "mlheQ1CWeL7Y",
        "outputId": "7f58d875-e53c-4c79-a892-d0d22dd8746d"
      },
      "execution_count": null,
      "outputs": [
        {
          "output_type": "stream",
          "name": "stdout",
          "text": [
            "['Ketan Goyal.']\n"
          ]
        }
      ]
    },
    {
      "cell_type": "markdown",
      "source": [
        "d) A phone number, in the format of your choice\n"
      ],
      "metadata": {
        "id": "uU6U3a2qhJOT"
      }
    },
    {
      "cell_type": "code",
      "source": [
        "n = \"My 3 numberss are 4535235 , 3232323232 and 458\"\n",
        "lst = r.findall('\\d{10}',n)\n",
        "print(lst)"
      ],
      "metadata": {
        "id": "f7M9nIkMjYYi"
      },
      "execution_count": null,
      "outputs": []
    },
    {
      "cell_type": "markdown",
      "source": [
        "e) A data in MM/DD/YY format (be careful about what values are permitted!)"
      ],
      "metadata": {
        "id": "4kUEBzaPhK6w"
      }
    },
    {
      "cell_type": "code",
      "source": [
        "import datetime\n",
        "\n",
        "x = datetime.datetime.now()\n",
        "print(x) "
      ],
      "metadata": {
        "colab": {
          "base_uri": "https://localhost:8080/"
        },
        "id": "MrguwEWrkTJa",
        "outputId": "6576006f-67a7-4dc1-aafd-e8f96b3426e8"
      },
      "execution_count": null,
      "outputs": [
        {
          "output_type": "stream",
          "name": "stdout",
          "text": [
            "2022-09-01 10:49:33.871223\n"
          ]
        }
      ]
    },
    {
      "cell_type": "markdown",
      "source": [
        "2. The files people.txt contain lists of names, email addresses, and phone numbers in a\n",
        "consistent format; open one in a text editor to see what you’re dealing with. Your\n",
        "task is to write a regular expression that allows you to selectively extract fields of\n",
        "interest while ignoring any extraneous information (like white spaces, formatting,\n",
        "etc.).\n"
      ],
      "metadata": {
        "id": "im_PTdqvhNBm"
      }
    },
    {
      "cell_type": "markdown",
      "source": [
        "a. Then, extract the full name and email address of each person and print them\n",
        "in the following format: JohnDoe:username@domain.com\n"
      ],
      "metadata": {
        "id": "Mhb8gEz1hPCW"
      }
    },
    {
      "cell_type": "code",
      "source": [
        "file = open(r'/content/names.txt')\n",
        "text = file.read()\n",
        "names = r.findall('[A-Z][a-z]+[A-Z[a-z]',text)\n",
        "mails = r.findall('\\S+@\\S+\\.com',text)\n",
        "n = len(names)\n",
        "\n",
        "for i in range (n):\n",
        "  print(names[i] + \":\" + mails[i])"
      ],
      "metadata": {
        "id": "79q-K2Kk8tyV",
        "outputId": "d3eb00c4-0f44-4b7f-ccb6-19aa4ce4f402",
        "colab": {
          "base_uri": "https://localhost:8080/"
        }
      },
      "execution_count": 25,
      "outputs": [
        {
          "output_type": "stream",
          "name": "stdout",
          "text": [
            "Ram:ab@gmail.com\n",
            "Shyam:abc@gmail.com\n",
            "Harsh:abcd@gmail.com\n",
            "Karan:abcde@gmail.com\n",
            "Sita:abcdef@gmail.com\n",
            "Peter:abcdefg@gmail.com\n",
            "Gon:bc@gmail.com\n",
            "Goku:bcd@gmail.com\n",
            "Arthur:bcde@gmail.com\n",
            "Ananaya:cde@gmail.com\n"
          ]
        }
      ]
    },
    {
      "cell_type": "markdown",
      "source": [
        "b. Sort the obtained result by first name"
      ],
      "metadata": {
        "id": "NvcFAiKhhQXR"
      }
    },
    {
      "cell_type": "code",
      "source": [
        "file = open(r'/content/names.txt')\n",
        "text = file.read()\n",
        "names = r.findall('[A-Z][a-z]+[A-Z[a-z]',text)\n",
        "lst = names\n",
        "lst.sort()\n",
        "print(lst)\n"
      ],
      "metadata": {
        "id": "gAICyPTG_t5c",
        "outputId": "539086f6-3001-46ee-93dc-0f910fa6b688",
        "colab": {
          "base_uri": "https://localhost:8080/"
        }
      },
      "execution_count": 33,
      "outputs": [
        {
          "output_type": "stream",
          "name": "stdout",
          "text": [
            "['Ananaya', 'Arthur', 'Goku', 'Gon', 'Harsh', 'Karan', 'Peter', 'Ram', 'Shyam', 'Sita']\n"
          ]
        }
      ]
    },
    {
      "cell_type": "code",
      "source": [],
      "metadata": {
        "id": "Swj9tt9nBTdu"
      },
      "execution_count": null,
      "outputs": []
    }
  ]
}