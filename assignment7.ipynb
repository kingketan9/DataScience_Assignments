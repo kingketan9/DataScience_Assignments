{
  "cells": [
    {
      "cell_type": "markdown",
      "metadata": {
        "id": "view-in-github",
        "colab_type": "text"
      },
      "source": [
        "<a href=\"https://colab.research.google.com/github/kingketan9/Data_Science_Assignment/blob/main/assignment7.ipynb\" target=\"_parent\"><img src=\"https://colab.research.google.com/assets/colab-badge.svg\" alt=\"Open In Colab\"/></a>"
      ]
    },
    {
      "cell_type": "markdown",
      "source": [
        "a.) Create 500 txt files in a directory. Every file contains 20,000 lines, and every line contains a\n",
        "random string of length of 20 characters."
      ],
      "metadata": {
        "id": "mRmuw5OwmOnh"
      }
    },
    {
      "cell_type": "code",
      "execution_count": null,
      "metadata": {
        "id": "9TRJlZ2mjfZ4"
      },
      "outputs": [],
      "source": [
        "import random as r\n",
        "import string as s\n",
        "\n",
        "for i in range(500):\n",
        "    fname = \"file\"+str(i)\n",
        "    f = open(fname,'w')\n",
        "    for i in range(20000):\n",
        "        w = ''.join(r.sample(s.ascii_letters,20))\n",
        "        f.write(w)\n",
        "        f.write('\\n')"
      ]
    },
    {
      "cell_type": "markdown",
      "source": [
        "b.) Calculate the execution time to convert all the files to upper case. Save the results in csv file as\n",
        "given below."
      ],
      "metadata": {
        "id": "HRUtlexrmUsN"
      }
    },
    {
      "cell_type": "code",
      "execution_count": null,
      "metadata": {
        "id": "idnLIlhtjfaA"
      },
      "outputs": [],
      "source": [
        "import csv\n",
        "import time\n",
        "list = []\n",
        "with open('file.csv','w') as f:\n",
        "    writer = csv.writer(f)\n",
        "    writer.writerow(['No. of files','Time taken'])\n",
        "    start = time.time()\n",
        "    for i in range(500):\n",
        "        fname = 'file'+str(i)\n",
        "        fp = open(fname,'r')\n",
        "        fnamee = 'filee'+str(i)\n",
        "        fp1 = open(fnamee,'w')\n",
        "        for line in fp:\n",
        "            fp1.write(line.upper())\n",
        "        if i==99 or i==199 or i==299 or i==399 or i==499:\n",
        "            writer.writerow([i+1,time.time()-start])\n",
        "            list.append(time.time()-start)\n",
        "    "
      ]
    },
    {
      "cell_type": "markdown",
      "source": [
        "c) Write a Lambda function to square the time taken entry of execution.\n"
      ],
      "metadata": {
        "id": "g-rm-C3ImZ7-"
      }
    },
    {
      "cell_type": "code",
      "execution_count": null,
      "metadata": {
        "id": "CyDp-fLgjfaG",
        "outputId": "a4902df0-bd09-48e1-cabd-49d408210840"
      },
      "outputs": [
        {
          "name": "stdout",
          "output_type": "stream",
          "text": [
            "160.67065534935523\n"
          ]
        }
      ],
      "source": [
        "f1 = lambda x : x*x\n",
        "print(f1(time.time()- start))"
      ]
    },
    {
      "cell_type": "markdown",
      "source": [
        "d) Write a lambda function to calculate the average time taken for each file."
      ],
      "metadata": {
        "id": "dpiE3wkumbp8"
      }
    },
    {
      "cell_type": "code",
      "execution_count": null,
      "metadata": {
        "id": "X4dzVi_ojfaJ",
        "outputId": "a963e85a-ba4b-4d42-e8ec-de4624de3698"
      },
      "outputs": [
        {
          "name": "stdout",
          "output_type": "stream",
          "text": [
            "7.576294994354248\n"
          ]
        }
      ],
      "source": [
        "f1 = lambda x : sum(x)/len(x)\n",
        "print(f1(list))"
      ]
    }
  ],
  "metadata": {
    "kernelspec": {
      "display_name": "Python 3.10.5 64-bit",
      "language": "python",
      "name": "python3"
    },
    "language_info": {
      "codemirror_mode": {
        "name": "ipython",
        "version": 3
      },
      "file_extension": ".py",
      "mimetype": "text/x-python",
      "name": "python",
      "nbconvert_exporter": "python",
      "pygments_lexer": "ipython3",
      "version": "3.10.5"
    },
    "orig_nbformat": 4,
    "vscode": {
      "interpreter": {
        "hash": "26de051ba29f2982a8de78e945f0abaf191376122a1563185a90213a26c5da77"
      }
    },
    "colab": {
      "provenance": [],
      "include_colab_link": true
    }
  },
  "nbformat": 4,
  "nbformat_minor": 0
}